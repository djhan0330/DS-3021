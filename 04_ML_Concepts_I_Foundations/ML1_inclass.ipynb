<<<<<<< HEAD
{
 "cells": [
  {
   "cell_type": "markdown",
   "id": "f392b340",
   "metadata": {},
   "source": [
    "## ML 1 In-Class"
   ]
  },
  {
   "attachments": {},
   "cell_type": "markdown",
   "id": "e54306b5-498c-4195-b762-ce015e3a9a53",
   "metadata": {
    "tags": []
   },
   "source": [
    "[![Open In Colab](https://colab.research.google.com/assets/colab-badge.svg)](https://colab.research.google.com/github/UVADS/DS-3001/blob/main/04_ML_Concepts_I_Foundations/ML1_inclass.ipynb#scrollTo=9723a7ee)"
   ]
  },
  {
   "cell_type": "code",
   "execution_count": 5,
   "id": "9723a7ee",
   "metadata": {
    "jupyter": {
     "source_hidden": true
    },
    "tags": []
   },
   "outputs": [],
   "source": [
    "# import packages\n",
    "\n",
    "#from pydataset import data\n",
    "import pandas as pd\n",
    "from sklearn.model_selection import train_test_split\n",
    "from sklearn.neighbors import KNeighborsClassifier\n",
    "import plotly.express as px\n",
    "import warnings\n",
    "warnings.filterwarnings('ignore')"
   ]
  },
  {
   "cell_type": "code",
   "execution_count": 7,
   "id": "b1f8bb64",
   "metadata": {
    "collapsed": true,
    "jupyter": {
     "outputs_hidden": true
    },
    "tags": []
   },
   "outputs": [],
   "source": [
    "from ucimlrepo import fetch_ucirepo \n",
    "  \n",
    "# fetch dataset \n",
    "iris = fetch_ucirepo(id=53) \n",
    "\n",
    "X = iris.data.features \n",
    "y = iris.data.targets\n",
    "\n",
    "#add class from y to X \n",
    "X['class'] = y['class']\n",
    "\n",
    "\n"
   ]
  },
  {
   "cell_type": "markdown",
   "id": "139fd6f8",
   "metadata": {},
   "source": [
    "What mental models can we see from these data sets? What data science questions can we ask? "
   ]
  },
  {
   "cell_type": "markdown",
   "id": "d2405c97",
   "metadata": {},
   "source": [
    "### Example: k-Nearest Neighbors\n",
    "\n",
    "We want to first split the data into train and test data sets. To do this, we will use sklearn's train_test_split method.\n",
    "\n",
    "First, we need to separate variables into independent and dependent dataframes."
   ]
  },
  {
   "cell_type": "code",
   "execution_count": 8,
   "id": "0c1ef8aa",
   "metadata": {},
   "outputs": [],
   "source": [
    "\n",
    "\n",
    "train, test = train_test_split(X,  test_size=0.3, stratify = X['class']) # 70% training and 30% test, \n",
    "#stratify to ensure equal distribution of classes"
   ]
  },
  {
   "cell_type": "code",
   "execution_count": 9,
   "id": "af6f3f68",
   "metadata": {},
   "outputs": [
    {
     "data": {
      "text/html": [
       "<div>\n",
       "<style scoped>\n",
       "    .dataframe tbody tr th:only-of-type {\n",
       "        vertical-align: middle;\n",
       "    }\n",
       "\n",
       "    .dataframe tbody tr th {\n",
       "        vertical-align: top;\n",
       "    }\n",
       "\n",
       "    .dataframe thead th {\n",
       "        text-align: right;\n",
       "    }\n",
       "</style>\n",
       "<table border=\"1\" class=\"dataframe\">\n",
       "  <thead>\n",
       "    <tr style=\"text-align: right;\">\n",
       "      <th></th>\n",
       "      <th>sepal length</th>\n",
       "      <th>sepal width</th>\n",
       "      <th>petal length</th>\n",
       "      <th>petal width</th>\n",
       "    </tr>\n",
       "  </thead>\n",
       "  <tbody>\n",
       "    <tr>\n",
       "      <th>count</th>\n",
       "      <td>105.000000</td>\n",
       "      <td>105.000000</td>\n",
       "      <td>105.000000</td>\n",
       "      <td>105.000000</td>\n",
       "    </tr>\n",
       "    <tr>\n",
       "      <th>mean</th>\n",
       "      <td>5.864762</td>\n",
       "      <td>3.032381</td>\n",
       "      <td>3.790476</td>\n",
       "      <td>1.192381</td>\n",
       "    </tr>\n",
       "    <tr>\n",
       "      <th>std</th>\n",
       "      <td>0.886000</td>\n",
       "      <td>0.411492</td>\n",
       "      <td>1.826594</td>\n",
       "      <td>0.772570</td>\n",
       "    </tr>\n",
       "    <tr>\n",
       "      <th>min</th>\n",
       "      <td>4.300000</td>\n",
       "      <td>2.000000</td>\n",
       "      <td>1.000000</td>\n",
       "      <td>0.100000</td>\n",
       "    </tr>\n",
       "    <tr>\n",
       "      <th>25%</th>\n",
       "      <td>5.100000</td>\n",
       "      <td>2.800000</td>\n",
       "      <td>1.600000</td>\n",
       "      <td>0.300000</td>\n",
       "    </tr>\n",
       "    <tr>\n",
       "      <th>50%</th>\n",
       "      <td>5.800000</td>\n",
       "      <td>3.000000</td>\n",
       "      <td>4.200000</td>\n",
       "      <td>1.300000</td>\n",
       "    </tr>\n",
       "    <tr>\n",
       "      <th>75%</th>\n",
       "      <td>6.500000</td>\n",
       "      <td>3.200000</td>\n",
       "      <td>5.200000</td>\n",
       "      <td>1.800000</td>\n",
       "    </tr>\n",
       "    <tr>\n",
       "      <th>max</th>\n",
       "      <td>7.900000</td>\n",
       "      <td>4.200000</td>\n",
       "      <td>6.900000</td>\n",
       "      <td>2.500000</td>\n",
       "    </tr>\n",
       "  </tbody>\n",
       "</table>\n",
       "</div>"
      ],
      "text/plain": [
       "       sepal length  sepal width  petal length  petal width\n",
       "count    105.000000   105.000000    105.000000   105.000000\n",
       "mean       5.864762     3.032381      3.790476     1.192381\n",
       "std        0.886000     0.411492      1.826594     0.772570\n",
       "min        4.300000     2.000000      1.000000     0.100000\n",
       "25%        5.100000     2.800000      1.600000     0.300000\n",
       "50%        5.800000     3.000000      4.200000     1.300000\n",
       "75%        6.500000     3.200000      5.200000     1.800000\n",
       "max        7.900000     4.200000      6.900000     2.500000"
      ]
     },
     "execution_count": 9,
     "metadata": {},
     "output_type": "execute_result"
    }
   ],
   "source": [
    "train.describe()"
   ]
  },
  {
   "cell_type": "code",
   "execution_count": 10,
   "id": "77b71d02",
   "metadata": {},
   "outputs": [],
   "source": [
    "test, validation = train_test_split(test, test_size=0.5, stratify=test['class'])"
   ]
  },
  {
   "cell_type": "code",
   "execution_count": 11,
   "id": "cefc9632-42ea-452f-8e67-058218422449",
   "metadata": {
    "collapsed": true,
    "jupyter": {
     "outputs_hidden": true
    },
    "tags": []
   },
   "outputs": [
    {
     "data": {
      "text/html": [
       "<div>\n",
       "<style scoped>\n",
       "    .dataframe tbody tr th:only-of-type {\n",
       "        vertical-align: middle;\n",
       "    }\n",
       "\n",
       "    .dataframe tbody tr th {\n",
       "        vertical-align: top;\n",
       "    }\n",
       "\n",
       "    .dataframe thead th {\n",
       "        text-align: right;\n",
       "    }\n",
       "</style>\n",
       "<table border=\"1\" class=\"dataframe\">\n",
       "  <thead>\n",
       "    <tr style=\"text-align: right;\">\n",
       "      <th></th>\n",
       "      <th>sepal length</th>\n",
       "      <th>sepal width</th>\n",
       "      <th>petal length</th>\n",
       "      <th>petal width</th>\n",
       "    </tr>\n",
       "  </thead>\n",
       "  <tbody>\n",
       "    <tr>\n",
       "      <th>count</th>\n",
       "      <td>22.000000</td>\n",
       "      <td>22.000000</td>\n",
       "      <td>22.000000</td>\n",
       "      <td>22.000000</td>\n",
       "    </tr>\n",
       "    <tr>\n",
       "      <th>mean</th>\n",
       "      <td>5.822727</td>\n",
       "      <td>3.136364</td>\n",
       "      <td>3.713636</td>\n",
       "      <td>1.231818</td>\n",
       "    </tr>\n",
       "    <tr>\n",
       "      <th>std</th>\n",
       "      <td>0.578118</td>\n",
       "      <td>0.500995</td>\n",
       "      <td>1.605139</td>\n",
       "      <td>0.720044</td>\n",
       "    </tr>\n",
       "    <tr>\n",
       "      <th>min</th>\n",
       "      <td>4.900000</td>\n",
       "      <td>2.200000</td>\n",
       "      <td>1.400000</td>\n",
       "      <td>0.200000</td>\n",
       "    </tr>\n",
       "    <tr>\n",
       "      <th>25%</th>\n",
       "      <td>5.325000</td>\n",
       "      <td>2.725000</td>\n",
       "      <td>1.550000</td>\n",
       "      <td>0.400000</td>\n",
       "    </tr>\n",
       "    <tr>\n",
       "      <th>50%</th>\n",
       "      <td>5.900000</td>\n",
       "      <td>3.050000</td>\n",
       "      <td>4.500000</td>\n",
       "      <td>1.550000</td>\n",
       "    </tr>\n",
       "    <tr>\n",
       "      <th>75%</th>\n",
       "      <td>6.200000</td>\n",
       "      <td>3.400000</td>\n",
       "      <td>4.875000</td>\n",
       "      <td>1.800000</td>\n",
       "    </tr>\n",
       "    <tr>\n",
       "      <th>max</th>\n",
       "      <td>6.900000</td>\n",
       "      <td>4.400000</td>\n",
       "      <td>5.700000</td>\n",
       "      <td>2.300000</td>\n",
       "    </tr>\n",
       "  </tbody>\n",
       "</table>\n",
       "</div>"
      ],
      "text/plain": [
       "       sepal length  sepal width  petal length  petal width\n",
       "count     22.000000    22.000000     22.000000    22.000000\n",
       "mean       5.822727     3.136364      3.713636     1.231818\n",
       "std        0.578118     0.500995      1.605139     0.720044\n",
       "min        4.900000     2.200000      1.400000     0.200000\n",
       "25%        5.325000     2.725000      1.550000     0.400000\n",
       "50%        5.900000     3.050000      4.500000     1.550000\n",
       "75%        6.200000     3.400000      4.875000     1.800000\n",
       "max        6.900000     4.400000      5.700000     2.300000"
      ]
     },
     "execution_count": 11,
     "metadata": {},
     "output_type": "execute_result"
    }
   ],
   "source": [
    "test.describe()"
   ]
  },
  {
   "cell_type": "markdown",
   "id": "d99a5636",
   "metadata": {
    "tags": []
   },
   "source": [
    "Now, we use the scikitlearn KNN classifier."
   ]
  },
  {
   "cell_type": "code",
   "execution_count": 9,
   "id": "3840124e-742f-4591-ae02-caca05ee506f",
   "metadata": {
    "collapsed": true,
    "jupyter": {
     "outputs_hidden": true,
     "source_hidden": true
    },
    "tags": []
   },
   "outputs": [
    {
     "data": {
      "text/html": [
       "<div>\n",
       "<style scoped>\n",
       "    .dataframe tbody tr th:only-of-type {\n",
       "        vertical-align: middle;\n",
       "    }\n",
       "\n",
       "    .dataframe tbody tr th {\n",
       "        vertical-align: top;\n",
       "    }\n",
       "\n",
       "    .dataframe thead th {\n",
       "        text-align: right;\n",
       "    }\n",
       "</style>\n",
       "<table border=\"1\" class=\"dataframe\">\n",
       "  <thead>\n",
       "    <tr style=\"text-align: right;\">\n",
       "      <th></th>\n",
       "      <th>sepallength</th>\n",
       "      <th>sepalwidth</th>\n",
       "      <th>petallength</th>\n",
       "      <th>petalwidth</th>\n",
       "    </tr>\n",
       "  </thead>\n",
       "  <tbody>\n",
       "    <tr>\n",
       "      <th>count</th>\n",
       "      <td>23.000000</td>\n",
       "      <td>23.000000</td>\n",
       "      <td>23.000000</td>\n",
       "      <td>23.000000</td>\n",
       "    </tr>\n",
       "    <tr>\n",
       "      <th>mean</th>\n",
       "      <td>5.956522</td>\n",
       "      <td>3.147826</td>\n",
       "      <td>3.800000</td>\n",
       "      <td>1.269565</td>\n",
       "    </tr>\n",
       "    <tr>\n",
       "      <th>std</th>\n",
       "      <td>0.827826</td>\n",
       "      <td>0.389486</td>\n",
       "      <td>1.796714</td>\n",
       "      <td>0.831447</td>\n",
       "    </tr>\n",
       "    <tr>\n",
       "      <th>min</th>\n",
       "      <td>4.600000</td>\n",
       "      <td>2.500000</td>\n",
       "      <td>1.300000</td>\n",
       "      <td>0.100000</td>\n",
       "    </tr>\n",
       "    <tr>\n",
       "      <th>25%</th>\n",
       "      <td>5.300000</td>\n",
       "      <td>3.000000</td>\n",
       "      <td>1.600000</td>\n",
       "      <td>0.350000</td>\n",
       "    </tr>\n",
       "    <tr>\n",
       "      <th>50%</th>\n",
       "      <td>5.900000</td>\n",
       "      <td>3.100000</td>\n",
       "      <td>4.700000</td>\n",
       "      <td>1.400000</td>\n",
       "    </tr>\n",
       "    <tr>\n",
       "      <th>75%</th>\n",
       "      <td>6.550000</td>\n",
       "      <td>3.250000</td>\n",
       "      <td>5.150000</td>\n",
       "      <td>2.000000</td>\n",
       "    </tr>\n",
       "    <tr>\n",
       "      <th>max</th>\n",
       "      <td>7.700000</td>\n",
       "      <td>4.100000</td>\n",
       "      <td>6.700000</td>\n",
       "      <td>2.300000</td>\n",
       "    </tr>\n",
       "  </tbody>\n",
       "</table>\n",
       "</div>"
      ],
      "text/plain": [
       "       sepallength  sepalwidth  petallength  petalwidth\n",
       "count    23.000000   23.000000    23.000000   23.000000\n",
       "mean      5.956522    3.147826     3.800000    1.269565\n",
       "std       0.827826    0.389486     1.796714    0.831447\n",
       "min       4.600000    2.500000     1.300000    0.100000\n",
       "25%       5.300000    3.000000     1.600000    0.350000\n",
       "50%       5.900000    3.100000     4.700000    1.400000\n",
       "75%       6.550000    3.250000     5.150000    2.000000\n",
       "max       7.700000    4.100000     6.700000    2.300000"
      ]
     },
     "execution_count": 9,
     "metadata": {},
     "output_type": "execute_result"
    }
   ],
   "source": [
    "validation.describe()"
   ]
  },
  {
   "cell_type": "code",
   "execution_count": 12,
   "id": "6d5ac607",
   "metadata": {
    "tags": []
   },
   "outputs": [
    {
     "data": {
      "text/html": [
       "<style>#sk-container-id-1 {\n",
       "  /* Definition of color scheme common for light and dark mode */\n",
       "  --sklearn-color-text: #000;\n",
       "  --sklearn-color-text-muted: #666;\n",
       "  --sklearn-color-line: gray;\n",
       "  /* Definition of color scheme for unfitted estimators */\n",
       "  --sklearn-color-unfitted-level-0: #fff5e6;\n",
       "  --sklearn-color-unfitted-level-1: #f6e4d2;\n",
       "  --sklearn-color-unfitted-level-2: #ffe0b3;\n",
       "  --sklearn-color-unfitted-level-3: chocolate;\n",
       "  /* Definition of color scheme for fitted estimators */\n",
       "  --sklearn-color-fitted-level-0: #f0f8ff;\n",
       "  --sklearn-color-fitted-level-1: #d4ebff;\n",
       "  --sklearn-color-fitted-level-2: #b3dbfd;\n",
       "  --sklearn-color-fitted-level-3: cornflowerblue;\n",
       "\n",
       "  /* Specific color for light theme */\n",
       "  --sklearn-color-text-on-default-background: var(--sg-text-color, var(--theme-code-foreground, var(--jp-content-font-color1, black)));\n",
       "  --sklearn-color-background: var(--sg-background-color, var(--theme-background, var(--jp-layout-color0, white)));\n",
       "  --sklearn-color-border-box: var(--sg-text-color, var(--theme-code-foreground, var(--jp-content-font-color1, black)));\n",
       "  --sklearn-color-icon: #696969;\n",
       "\n",
       "  @media (prefers-color-scheme: dark) {\n",
       "    /* Redefinition of color scheme for dark theme */\n",
       "    --sklearn-color-text-on-default-background: var(--sg-text-color, var(--theme-code-foreground, var(--jp-content-font-color1, white)));\n",
       "    --sklearn-color-background: var(--sg-background-color, var(--theme-background, var(--jp-layout-color0, #111)));\n",
       "    --sklearn-color-border-box: var(--sg-text-color, var(--theme-code-foreground, var(--jp-content-font-color1, white)));\n",
       "    --sklearn-color-icon: #878787;\n",
       "  }\n",
       "}\n",
       "\n",
       "#sk-container-id-1 {\n",
       "  color: var(--sklearn-color-text);\n",
       "}\n",
       "\n",
       "#sk-container-id-1 pre {\n",
       "  padding: 0;\n",
       "}\n",
       "\n",
       "#sk-container-id-1 input.sk-hidden--visually {\n",
       "  border: 0;\n",
       "  clip: rect(1px 1px 1px 1px);\n",
       "  clip: rect(1px, 1px, 1px, 1px);\n",
       "  height: 1px;\n",
       "  margin: -1px;\n",
       "  overflow: hidden;\n",
       "  padding: 0;\n",
       "  position: absolute;\n",
       "  width: 1px;\n",
       "}\n",
       "\n",
       "#sk-container-id-1 div.sk-dashed-wrapped {\n",
       "  border: 1px dashed var(--sklearn-color-line);\n",
       "  margin: 0 0.4em 0.5em 0.4em;\n",
       "  box-sizing: border-box;\n",
       "  padding-bottom: 0.4em;\n",
       "  background-color: var(--sklearn-color-background);\n",
       "}\n",
       "\n",
       "#sk-container-id-1 div.sk-container {\n",
       "  /* jupyter's `normalize.less` sets `[hidden] { display: none; }`\n",
       "     but bootstrap.min.css set `[hidden] { display: none !important; }`\n",
       "     so we also need the `!important` here to be able to override the\n",
       "     default hidden behavior on the sphinx rendered scikit-learn.org.\n",
       "     See: https://github.com/scikit-learn/scikit-learn/issues/21755 */\n",
       "  display: inline-block !important;\n",
       "  position: relative;\n",
       "}\n",
       "\n",
       "#sk-container-id-1 div.sk-text-repr-fallback {\n",
       "  display: none;\n",
       "}\n",
       "\n",
       "div.sk-parallel-item,\n",
       "div.sk-serial,\n",
       "div.sk-item {\n",
       "  /* draw centered vertical line to link estimators */\n",
       "  background-image: linear-gradient(var(--sklearn-color-text-on-default-background), var(--sklearn-color-text-on-default-background));\n",
       "  background-size: 2px 100%;\n",
       "  background-repeat: no-repeat;\n",
       "  background-position: center center;\n",
       "}\n",
       "\n",
       "/* Parallel-specific style estimator block */\n",
       "\n",
       "#sk-container-id-1 div.sk-parallel-item::after {\n",
       "  content: \"\";\n",
       "  width: 100%;\n",
       "  border-bottom: 2px solid var(--sklearn-color-text-on-default-background);\n",
       "  flex-grow: 1;\n",
       "}\n",
       "\n",
       "#sk-container-id-1 div.sk-parallel {\n",
       "  display: flex;\n",
       "  align-items: stretch;\n",
       "  justify-content: center;\n",
       "  background-color: var(--sklearn-color-background);\n",
       "  position: relative;\n",
       "}\n",
       "\n",
       "#sk-container-id-1 div.sk-parallel-item {\n",
       "  display: flex;\n",
       "  flex-direction: column;\n",
       "}\n",
       "\n",
       "#sk-container-id-1 div.sk-parallel-item:first-child::after {\n",
       "  align-self: flex-end;\n",
       "  width: 50%;\n",
       "}\n",
       "\n",
       "#sk-container-id-1 div.sk-parallel-item:last-child::after {\n",
       "  align-self: flex-start;\n",
       "  width: 50%;\n",
       "}\n",
       "\n",
       "#sk-container-id-1 div.sk-parallel-item:only-child::after {\n",
       "  width: 0;\n",
       "}\n",
       "\n",
       "/* Serial-specific style estimator block */\n",
       "\n",
       "#sk-container-id-1 div.sk-serial {\n",
       "  display: flex;\n",
       "  flex-direction: column;\n",
       "  align-items: center;\n",
       "  background-color: var(--sklearn-color-background);\n",
       "  padding-right: 1em;\n",
       "  padding-left: 1em;\n",
       "}\n",
       "\n",
       "\n",
       "/* Toggleable style: style used for estimator/Pipeline/ColumnTransformer box that is\n",
       "clickable and can be expanded/collapsed.\n",
       "- Pipeline and ColumnTransformer use this feature and define the default style\n",
       "- Estimators will overwrite some part of the style using the `sk-estimator` class\n",
       "*/\n",
       "\n",
       "/* Pipeline and ColumnTransformer style (default) */\n",
       "\n",
       "#sk-container-id-1 div.sk-toggleable {\n",
       "  /* Default theme specific background. It is overwritten whether we have a\n",
       "  specific estimator or a Pipeline/ColumnTransformer */\n",
       "  background-color: var(--sklearn-color-background);\n",
       "}\n",
       "\n",
       "/* Toggleable label */\n",
       "#sk-container-id-1 label.sk-toggleable__label {\n",
       "  cursor: pointer;\n",
       "  display: flex;\n",
       "  width: 100%;\n",
       "  margin-bottom: 0;\n",
       "  padding: 0.5em;\n",
       "  box-sizing: border-box;\n",
       "  text-align: center;\n",
       "  align-items: start;\n",
       "  justify-content: space-between;\n",
       "  gap: 0.5em;\n",
       "}\n",
       "\n",
       "#sk-container-id-1 label.sk-toggleable__label .caption {\n",
       "  font-size: 0.6rem;\n",
       "  font-weight: lighter;\n",
       "  color: var(--sklearn-color-text-muted);\n",
       "}\n",
       "\n",
       "#sk-container-id-1 label.sk-toggleable__label-arrow:before {\n",
       "  /* Arrow on the left of the label */\n",
       "  content: \"▸\";\n",
       "  float: left;\n",
       "  margin-right: 0.25em;\n",
       "  color: var(--sklearn-color-icon);\n",
       "}\n",
       "\n",
       "#sk-container-id-1 label.sk-toggleable__label-arrow:hover:before {\n",
       "  color: var(--sklearn-color-text);\n",
       "}\n",
       "\n",
       "/* Toggleable content - dropdown */\n",
       "\n",
       "#sk-container-id-1 div.sk-toggleable__content {\n",
       "  max-height: 0;\n",
       "  max-width: 0;\n",
       "  overflow: hidden;\n",
       "  text-align: left;\n",
       "  /* unfitted */\n",
       "  background-color: var(--sklearn-color-unfitted-level-0);\n",
       "}\n",
       "\n",
       "#sk-container-id-1 div.sk-toggleable__content.fitted {\n",
       "  /* fitted */\n",
       "  background-color: var(--sklearn-color-fitted-level-0);\n",
       "}\n",
       "\n",
       "#sk-container-id-1 div.sk-toggleable__content pre {\n",
       "  margin: 0.2em;\n",
       "  border-radius: 0.25em;\n",
       "  color: var(--sklearn-color-text);\n",
       "  /* unfitted */\n",
       "  background-color: var(--sklearn-color-unfitted-level-0);\n",
       "}\n",
       "\n",
       "#sk-container-id-1 div.sk-toggleable__content.fitted pre {\n",
       "  /* unfitted */\n",
       "  background-color: var(--sklearn-color-fitted-level-0);\n",
       "}\n",
       "\n",
       "#sk-container-id-1 input.sk-toggleable__control:checked~div.sk-toggleable__content {\n",
       "  /* Expand drop-down */\n",
       "  max-height: 200px;\n",
       "  max-width: 100%;\n",
       "  overflow: auto;\n",
       "}\n",
       "\n",
       "#sk-container-id-1 input.sk-toggleable__control:checked~label.sk-toggleable__label-arrow:before {\n",
       "  content: \"▾\";\n",
       "}\n",
       "\n",
       "/* Pipeline/ColumnTransformer-specific style */\n",
       "\n",
       "#sk-container-id-1 div.sk-label input.sk-toggleable__control:checked~label.sk-toggleable__label {\n",
       "  color: var(--sklearn-color-text);\n",
       "  background-color: var(--sklearn-color-unfitted-level-2);\n",
       "}\n",
       "\n",
       "#sk-container-id-1 div.sk-label.fitted input.sk-toggleable__control:checked~label.sk-toggleable__label {\n",
       "  background-color: var(--sklearn-color-fitted-level-2);\n",
       "}\n",
       "\n",
       "/* Estimator-specific style */\n",
       "\n",
       "/* Colorize estimator box */\n",
       "#sk-container-id-1 div.sk-estimator input.sk-toggleable__control:checked~label.sk-toggleable__label {\n",
       "  /* unfitted */\n",
       "  background-color: var(--sklearn-color-unfitted-level-2);\n",
       "}\n",
       "\n",
       "#sk-container-id-1 div.sk-estimator.fitted input.sk-toggleable__control:checked~label.sk-toggleable__label {\n",
       "  /* fitted */\n",
       "  background-color: var(--sklearn-color-fitted-level-2);\n",
       "}\n",
       "\n",
       "#sk-container-id-1 div.sk-label label.sk-toggleable__label,\n",
       "#sk-container-id-1 div.sk-label label {\n",
       "  /* The background is the default theme color */\n",
       "  color: var(--sklearn-color-text-on-default-background);\n",
       "}\n",
       "\n",
       "/* On hover, darken the color of the background */\n",
       "#sk-container-id-1 div.sk-label:hover label.sk-toggleable__label {\n",
       "  color: var(--sklearn-color-text);\n",
       "  background-color: var(--sklearn-color-unfitted-level-2);\n",
       "}\n",
       "\n",
       "/* Label box, darken color on hover, fitted */\n",
       "#sk-container-id-1 div.sk-label.fitted:hover label.sk-toggleable__label.fitted {\n",
       "  color: var(--sklearn-color-text);\n",
       "  background-color: var(--sklearn-color-fitted-level-2);\n",
       "}\n",
       "\n",
       "/* Estimator label */\n",
       "\n",
       "#sk-container-id-1 div.sk-label label {\n",
       "  font-family: monospace;\n",
       "  font-weight: bold;\n",
       "  display: inline-block;\n",
       "  line-height: 1.2em;\n",
       "}\n",
       "\n",
       "#sk-container-id-1 div.sk-label-container {\n",
       "  text-align: center;\n",
       "}\n",
       "\n",
       "/* Estimator-specific */\n",
       "#sk-container-id-1 div.sk-estimator {\n",
       "  font-family: monospace;\n",
       "  border: 1px dotted var(--sklearn-color-border-box);\n",
       "  border-radius: 0.25em;\n",
       "  box-sizing: border-box;\n",
       "  margin-bottom: 0.5em;\n",
       "  /* unfitted */\n",
       "  background-color: var(--sklearn-color-unfitted-level-0);\n",
       "}\n",
       "\n",
       "#sk-container-id-1 div.sk-estimator.fitted {\n",
       "  /* fitted */\n",
       "  background-color: var(--sklearn-color-fitted-level-0);\n",
       "}\n",
       "\n",
       "/* on hover */\n",
       "#sk-container-id-1 div.sk-estimator:hover {\n",
       "  /* unfitted */\n",
       "  background-color: var(--sklearn-color-unfitted-level-2);\n",
       "}\n",
       "\n",
       "#sk-container-id-1 div.sk-estimator.fitted:hover {\n",
       "  /* fitted */\n",
       "  background-color: var(--sklearn-color-fitted-level-2);\n",
       "}\n",
       "\n",
       "/* Specification for estimator info (e.g. \"i\" and \"?\") */\n",
       "\n",
       "/* Common style for \"i\" and \"?\" */\n",
       "\n",
       ".sk-estimator-doc-link,\n",
       "a:link.sk-estimator-doc-link,\n",
       "a:visited.sk-estimator-doc-link {\n",
       "  float: right;\n",
       "  font-size: smaller;\n",
       "  line-height: 1em;\n",
       "  font-family: monospace;\n",
       "  background-color: var(--sklearn-color-background);\n",
       "  border-radius: 1em;\n",
       "  height: 1em;\n",
       "  width: 1em;\n",
       "  text-decoration: none !important;\n",
       "  margin-left: 0.5em;\n",
       "  text-align: center;\n",
       "  /* unfitted */\n",
       "  border: var(--sklearn-color-unfitted-level-1) 1pt solid;\n",
       "  color: var(--sklearn-color-unfitted-level-1);\n",
       "}\n",
       "\n",
       ".sk-estimator-doc-link.fitted,\n",
       "a:link.sk-estimator-doc-link.fitted,\n",
       "a:visited.sk-estimator-doc-link.fitted {\n",
       "  /* fitted */\n",
       "  border: var(--sklearn-color-fitted-level-1) 1pt solid;\n",
       "  color: var(--sklearn-color-fitted-level-1);\n",
       "}\n",
       "\n",
       "/* On hover */\n",
       "div.sk-estimator:hover .sk-estimator-doc-link:hover,\n",
       ".sk-estimator-doc-link:hover,\n",
       "div.sk-label-container:hover .sk-estimator-doc-link:hover,\n",
       ".sk-estimator-doc-link:hover {\n",
       "  /* unfitted */\n",
       "  background-color: var(--sklearn-color-unfitted-level-3);\n",
       "  color: var(--sklearn-color-background);\n",
       "  text-decoration: none;\n",
       "}\n",
       "\n",
       "div.sk-estimator.fitted:hover .sk-estimator-doc-link.fitted:hover,\n",
       ".sk-estimator-doc-link.fitted:hover,\n",
       "div.sk-label-container:hover .sk-estimator-doc-link.fitted:hover,\n",
       ".sk-estimator-doc-link.fitted:hover {\n",
       "  /* fitted */\n",
       "  background-color: var(--sklearn-color-fitted-level-3);\n",
       "  color: var(--sklearn-color-background);\n",
       "  text-decoration: none;\n",
       "}\n",
       "\n",
       "/* Span, style for the box shown on hovering the info icon */\n",
       ".sk-estimator-doc-link span {\n",
       "  display: none;\n",
       "  z-index: 9999;\n",
       "  position: relative;\n",
       "  font-weight: normal;\n",
       "  right: .2ex;\n",
       "  padding: .5ex;\n",
       "  margin: .5ex;\n",
       "  width: min-content;\n",
       "  min-width: 20ex;\n",
       "  max-width: 50ex;\n",
       "  color: var(--sklearn-color-text);\n",
       "  box-shadow: 2pt 2pt 4pt #999;\n",
       "  /* unfitted */\n",
       "  background: var(--sklearn-color-unfitted-level-0);\n",
       "  border: .5pt solid var(--sklearn-color-unfitted-level-3);\n",
       "}\n",
       "\n",
       ".sk-estimator-doc-link.fitted span {\n",
       "  /* fitted */\n",
       "  background: var(--sklearn-color-fitted-level-0);\n",
       "  border: var(--sklearn-color-fitted-level-3);\n",
       "}\n",
       "\n",
       ".sk-estimator-doc-link:hover span {\n",
       "  display: block;\n",
       "}\n",
       "\n",
       "/* \"?\"-specific style due to the `<a>` HTML tag */\n",
       "\n",
       "#sk-container-id-1 a.estimator_doc_link {\n",
       "  float: right;\n",
       "  font-size: 1rem;\n",
       "  line-height: 1em;\n",
       "  font-family: monospace;\n",
       "  background-color: var(--sklearn-color-background);\n",
       "  border-radius: 1rem;\n",
       "  height: 1rem;\n",
       "  width: 1rem;\n",
       "  text-decoration: none;\n",
       "  /* unfitted */\n",
       "  color: var(--sklearn-color-unfitted-level-1);\n",
       "  border: var(--sklearn-color-unfitted-level-1) 1pt solid;\n",
       "}\n",
       "\n",
       "#sk-container-id-1 a.estimator_doc_link.fitted {\n",
       "  /* fitted */\n",
       "  border: var(--sklearn-color-fitted-level-1) 1pt solid;\n",
       "  color: var(--sklearn-color-fitted-level-1);\n",
       "}\n",
       "\n",
       "/* On hover */\n",
       "#sk-container-id-1 a.estimator_doc_link:hover {\n",
       "  /* unfitted */\n",
       "  background-color: var(--sklearn-color-unfitted-level-3);\n",
       "  color: var(--sklearn-color-background);\n",
       "  text-decoration: none;\n",
       "}\n",
       "\n",
       "#sk-container-id-1 a.estimator_doc_link.fitted:hover {\n",
       "  /* fitted */\n",
       "  background-color: var(--sklearn-color-fitted-level-3);\n",
       "}\n",
       "</style><div id=\"sk-container-id-1\" class=\"sk-top-container\"><div class=\"sk-text-repr-fallback\"><pre>KNeighborsClassifier(n_neighbors=10)</pre><b>In a Jupyter environment, please rerun this cell to show the HTML representation or trust the notebook. <br />On GitHub, the HTML representation is unable to render, please try loading this page with nbviewer.org.</b></div><div class=\"sk-container\" hidden><div class=\"sk-item\"><div class=\"sk-estimator fitted sk-toggleable\"><input class=\"sk-toggleable__control sk-hidden--visually\" id=\"sk-estimator-id-1\" type=\"checkbox\" checked><label for=\"sk-estimator-id-1\" class=\"sk-toggleable__label fitted sk-toggleable__label-arrow\"><div><div>KNeighborsClassifier</div></div><div><a class=\"sk-estimator-doc-link fitted\" rel=\"noreferrer\" target=\"_blank\" href=\"https://scikit-learn.org/1.6/modules/generated/sklearn.neighbors.KNeighborsClassifier.html\">?<span>Documentation for KNeighborsClassifier</span></a><span class=\"sk-estimator-doc-link fitted\">i<span>Fitted</span></span></div></label><div class=\"sk-toggleable__content fitted\"><pre>KNeighborsClassifier(n_neighbors=10)</pre></div> </div></div></div></div>"
      ],
      "text/plain": [
       "KNeighborsClassifier(n_neighbors=10)"
      ]
     },
     "execution_count": 12,
     "metadata": {},
     "output_type": "execute_result"
    }
   ],
   "source": [
    "neigh = KNeighborsClassifier(n_neighbors=10)\n",
    "\n",
    "X_train = train.drop(['class'], axis=1).values # values\n",
    "y_train = train['class'].values # labels\n",
    "\n",
    "neigh.fit(X_train, y_train)"
   ]
  },
  {
   "cell_type": "markdown",
   "id": "2ce7a2d0",
   "metadata": {},
   "source": [
    "### Another Example with a Decision Tree"
   ]
  },
  {
   "cell_type": "code",
   "execution_count": 13,
   "id": "95c0e323",
   "metadata": {},
   "outputs": [
    {
     "data": {
      "text/html": [
       "<style>#sk-container-id-2 {\n",
       "  /* Definition of color scheme common for light and dark mode */\n",
       "  --sklearn-color-text: #000;\n",
       "  --sklearn-color-text-muted: #666;\n",
       "  --sklearn-color-line: gray;\n",
       "  /* Definition of color scheme for unfitted estimators */\n",
       "  --sklearn-color-unfitted-level-0: #fff5e6;\n",
       "  --sklearn-color-unfitted-level-1: #f6e4d2;\n",
       "  --sklearn-color-unfitted-level-2: #ffe0b3;\n",
       "  --sklearn-color-unfitted-level-3: chocolate;\n",
       "  /* Definition of color scheme for fitted estimators */\n",
       "  --sklearn-color-fitted-level-0: #f0f8ff;\n",
       "  --sklearn-color-fitted-level-1: #d4ebff;\n",
       "  --sklearn-color-fitted-level-2: #b3dbfd;\n",
       "  --sklearn-color-fitted-level-3: cornflowerblue;\n",
       "\n",
       "  /* Specific color for light theme */\n",
       "  --sklearn-color-text-on-default-background: var(--sg-text-color, var(--theme-code-foreground, var(--jp-content-font-color1, black)));\n",
       "  --sklearn-color-background: var(--sg-background-color, var(--theme-background, var(--jp-layout-color0, white)));\n",
       "  --sklearn-color-border-box: var(--sg-text-color, var(--theme-code-foreground, var(--jp-content-font-color1, black)));\n",
       "  --sklearn-color-icon: #696969;\n",
       "\n",
       "  @media (prefers-color-scheme: dark) {\n",
       "    /* Redefinition of color scheme for dark theme */\n",
       "    --sklearn-color-text-on-default-background: var(--sg-text-color, var(--theme-code-foreground, var(--jp-content-font-color1, white)));\n",
       "    --sklearn-color-background: var(--sg-background-color, var(--theme-background, var(--jp-layout-color0, #111)));\n",
       "    --sklearn-color-border-box: var(--sg-text-color, var(--theme-code-foreground, var(--jp-content-font-color1, white)));\n",
       "    --sklearn-color-icon: #878787;\n",
       "  }\n",
       "}\n",
       "\n",
       "#sk-container-id-2 {\n",
       "  color: var(--sklearn-color-text);\n",
       "}\n",
       "\n",
       "#sk-container-id-2 pre {\n",
       "  padding: 0;\n",
       "}\n",
       "\n",
       "#sk-container-id-2 input.sk-hidden--visually {\n",
       "  border: 0;\n",
       "  clip: rect(1px 1px 1px 1px);\n",
       "  clip: rect(1px, 1px, 1px, 1px);\n",
       "  height: 1px;\n",
       "  margin: -1px;\n",
       "  overflow: hidden;\n",
       "  padding: 0;\n",
       "  position: absolute;\n",
       "  width: 1px;\n",
       "}\n",
       "\n",
       "#sk-container-id-2 div.sk-dashed-wrapped {\n",
       "  border: 1px dashed var(--sklearn-color-line);\n",
       "  margin: 0 0.4em 0.5em 0.4em;\n",
       "  box-sizing: border-box;\n",
       "  padding-bottom: 0.4em;\n",
       "  background-color: var(--sklearn-color-background);\n",
       "}\n",
       "\n",
       "#sk-container-id-2 div.sk-container {\n",
       "  /* jupyter's `normalize.less` sets `[hidden] { display: none; }`\n",
       "     but bootstrap.min.css set `[hidden] { display: none !important; }`\n",
       "     so we also need the `!important` here to be able to override the\n",
       "     default hidden behavior on the sphinx rendered scikit-learn.org.\n",
       "     See: https://github.com/scikit-learn/scikit-learn/issues/21755 */\n",
       "  display: inline-block !important;\n",
       "  position: relative;\n",
       "}\n",
       "\n",
       "#sk-container-id-2 div.sk-text-repr-fallback {\n",
       "  display: none;\n",
       "}\n",
       "\n",
       "div.sk-parallel-item,\n",
       "div.sk-serial,\n",
       "div.sk-item {\n",
       "  /* draw centered vertical line to link estimators */\n",
       "  background-image: linear-gradient(var(--sklearn-color-text-on-default-background), var(--sklearn-color-text-on-default-background));\n",
       "  background-size: 2px 100%;\n",
       "  background-repeat: no-repeat;\n",
       "  background-position: center center;\n",
       "}\n",
       "\n",
       "/* Parallel-specific style estimator block */\n",
       "\n",
       "#sk-container-id-2 div.sk-parallel-item::after {\n",
       "  content: \"\";\n",
       "  width: 100%;\n",
       "  border-bottom: 2px solid var(--sklearn-color-text-on-default-background);\n",
       "  flex-grow: 1;\n",
       "}\n",
       "\n",
       "#sk-container-id-2 div.sk-parallel {\n",
       "  display: flex;\n",
       "  align-items: stretch;\n",
       "  justify-content: center;\n",
       "  background-color: var(--sklearn-color-background);\n",
       "  position: relative;\n",
       "}\n",
       "\n",
       "#sk-container-id-2 div.sk-parallel-item {\n",
       "  display: flex;\n",
       "  flex-direction: column;\n",
       "}\n",
       "\n",
       "#sk-container-id-2 div.sk-parallel-item:first-child::after {\n",
       "  align-self: flex-end;\n",
       "  width: 50%;\n",
       "}\n",
       "\n",
       "#sk-container-id-2 div.sk-parallel-item:last-child::after {\n",
       "  align-self: flex-start;\n",
       "  width: 50%;\n",
       "}\n",
       "\n",
       "#sk-container-id-2 div.sk-parallel-item:only-child::after {\n",
       "  width: 0;\n",
       "}\n",
       "\n",
       "/* Serial-specific style estimator block */\n",
       "\n",
       "#sk-container-id-2 div.sk-serial {\n",
       "  display: flex;\n",
       "  flex-direction: column;\n",
       "  align-items: center;\n",
       "  background-color: var(--sklearn-color-background);\n",
       "  padding-right: 1em;\n",
       "  padding-left: 1em;\n",
       "}\n",
       "\n",
       "\n",
       "/* Toggleable style: style used for estimator/Pipeline/ColumnTransformer box that is\n",
       "clickable and can be expanded/collapsed.\n",
       "- Pipeline and ColumnTransformer use this feature and define the default style\n",
       "- Estimators will overwrite some part of the style using the `sk-estimator` class\n",
       "*/\n",
       "\n",
       "/* Pipeline and ColumnTransformer style (default) */\n",
       "\n",
       "#sk-container-id-2 div.sk-toggleable {\n",
       "  /* Default theme specific background. It is overwritten whether we have a\n",
       "  specific estimator or a Pipeline/ColumnTransformer */\n",
       "  background-color: var(--sklearn-color-background);\n",
       "}\n",
       "\n",
       "/* Toggleable label */\n",
       "#sk-container-id-2 label.sk-toggleable__label {\n",
       "  cursor: pointer;\n",
       "  display: flex;\n",
       "  width: 100%;\n",
       "  margin-bottom: 0;\n",
       "  padding: 0.5em;\n",
       "  box-sizing: border-box;\n",
       "  text-align: center;\n",
       "  align-items: start;\n",
       "  justify-content: space-between;\n",
       "  gap: 0.5em;\n",
       "}\n",
       "\n",
       "#sk-container-id-2 label.sk-toggleable__label .caption {\n",
       "  font-size: 0.6rem;\n",
       "  font-weight: lighter;\n",
       "  color: var(--sklearn-color-text-muted);\n",
       "}\n",
       "\n",
       "#sk-container-id-2 label.sk-toggleable__label-arrow:before {\n",
       "  /* Arrow on the left of the label */\n",
       "  content: \"▸\";\n",
       "  float: left;\n",
       "  margin-right: 0.25em;\n",
       "  color: var(--sklearn-color-icon);\n",
       "}\n",
       "\n",
       "#sk-container-id-2 label.sk-toggleable__label-arrow:hover:before {\n",
       "  color: var(--sklearn-color-text);\n",
       "}\n",
       "\n",
       "/* Toggleable content - dropdown */\n",
       "\n",
       "#sk-container-id-2 div.sk-toggleable__content {\n",
       "  max-height: 0;\n",
       "  max-width: 0;\n",
       "  overflow: hidden;\n",
       "  text-align: left;\n",
       "  /* unfitted */\n",
       "  background-color: var(--sklearn-color-unfitted-level-0);\n",
       "}\n",
       "\n",
       "#sk-container-id-2 div.sk-toggleable__content.fitted {\n",
       "  /* fitted */\n",
       "  background-color: var(--sklearn-color-fitted-level-0);\n",
       "}\n",
       "\n",
       "#sk-container-id-2 div.sk-toggleable__content pre {\n",
       "  margin: 0.2em;\n",
       "  border-radius: 0.25em;\n",
       "  color: var(--sklearn-color-text);\n",
       "  /* unfitted */\n",
       "  background-color: var(--sklearn-color-unfitted-level-0);\n",
       "}\n",
       "\n",
       "#sk-container-id-2 div.sk-toggleable__content.fitted pre {\n",
       "  /* unfitted */\n",
       "  background-color: var(--sklearn-color-fitted-level-0);\n",
       "}\n",
       "\n",
       "#sk-container-id-2 input.sk-toggleable__control:checked~div.sk-toggleable__content {\n",
       "  /* Expand drop-down */\n",
       "  max-height: 200px;\n",
       "  max-width: 100%;\n",
       "  overflow: auto;\n",
       "}\n",
       "\n",
       "#sk-container-id-2 input.sk-toggleable__control:checked~label.sk-toggleable__label-arrow:before {\n",
       "  content: \"▾\";\n",
       "}\n",
       "\n",
       "/* Pipeline/ColumnTransformer-specific style */\n",
       "\n",
       "#sk-container-id-2 div.sk-label input.sk-toggleable__control:checked~label.sk-toggleable__label {\n",
       "  color: var(--sklearn-color-text);\n",
       "  background-color: var(--sklearn-color-unfitted-level-2);\n",
       "}\n",
       "\n",
       "#sk-container-id-2 div.sk-label.fitted input.sk-toggleable__control:checked~label.sk-toggleable__label {\n",
       "  background-color: var(--sklearn-color-fitted-level-2);\n",
       "}\n",
       "\n",
       "/* Estimator-specific style */\n",
       "\n",
       "/* Colorize estimator box */\n",
       "#sk-container-id-2 div.sk-estimator input.sk-toggleable__control:checked~label.sk-toggleable__label {\n",
       "  /* unfitted */\n",
       "  background-color: var(--sklearn-color-unfitted-level-2);\n",
       "}\n",
       "\n",
       "#sk-container-id-2 div.sk-estimator.fitted input.sk-toggleable__control:checked~label.sk-toggleable__label {\n",
       "  /* fitted */\n",
       "  background-color: var(--sklearn-color-fitted-level-2);\n",
       "}\n",
       "\n",
       "#sk-container-id-2 div.sk-label label.sk-toggleable__label,\n",
       "#sk-container-id-2 div.sk-label label {\n",
       "  /* The background is the default theme color */\n",
       "  color: var(--sklearn-color-text-on-default-background);\n",
       "}\n",
       "\n",
       "/* On hover, darken the color of the background */\n",
       "#sk-container-id-2 div.sk-label:hover label.sk-toggleable__label {\n",
       "  color: var(--sklearn-color-text);\n",
       "  background-color: var(--sklearn-color-unfitted-level-2);\n",
       "}\n",
       "\n",
       "/* Label box, darken color on hover, fitted */\n",
       "#sk-container-id-2 div.sk-label.fitted:hover label.sk-toggleable__label.fitted {\n",
       "  color: var(--sklearn-color-text);\n",
       "  background-color: var(--sklearn-color-fitted-level-2);\n",
       "}\n",
       "\n",
       "/* Estimator label */\n",
       "\n",
       "#sk-container-id-2 div.sk-label label {\n",
       "  font-family: monospace;\n",
       "  font-weight: bold;\n",
       "  display: inline-block;\n",
       "  line-height: 1.2em;\n",
       "}\n",
       "\n",
       "#sk-container-id-2 div.sk-label-container {\n",
       "  text-align: center;\n",
       "}\n",
       "\n",
       "/* Estimator-specific */\n",
       "#sk-container-id-2 div.sk-estimator {\n",
       "  font-family: monospace;\n",
       "  border: 1px dotted var(--sklearn-color-border-box);\n",
       "  border-radius: 0.25em;\n",
       "  box-sizing: border-box;\n",
       "  margin-bottom: 0.5em;\n",
       "  /* unfitted */\n",
       "  background-color: var(--sklearn-color-unfitted-level-0);\n",
       "}\n",
       "\n",
       "#sk-container-id-2 div.sk-estimator.fitted {\n",
       "  /* fitted */\n",
       "  background-color: var(--sklearn-color-fitted-level-0);\n",
       "}\n",
       "\n",
       "/* on hover */\n",
       "#sk-container-id-2 div.sk-estimator:hover {\n",
       "  /* unfitted */\n",
       "  background-color: var(--sklearn-color-unfitted-level-2);\n",
       "}\n",
       "\n",
       "#sk-container-id-2 div.sk-estimator.fitted:hover {\n",
       "  /* fitted */\n",
       "  background-color: var(--sklearn-color-fitted-level-2);\n",
       "}\n",
       "\n",
       "/* Specification for estimator info (e.g. \"i\" and \"?\") */\n",
       "\n",
       "/* Common style for \"i\" and \"?\" */\n",
       "\n",
       ".sk-estimator-doc-link,\n",
       "a:link.sk-estimator-doc-link,\n",
       "a:visited.sk-estimator-doc-link {\n",
       "  float: right;\n",
       "  font-size: smaller;\n",
       "  line-height: 1em;\n",
       "  font-family: monospace;\n",
       "  background-color: var(--sklearn-color-background);\n",
       "  border-radius: 1em;\n",
       "  height: 1em;\n",
       "  width: 1em;\n",
       "  text-decoration: none !important;\n",
       "  margin-left: 0.5em;\n",
       "  text-align: center;\n",
       "  /* unfitted */\n",
       "  border: var(--sklearn-color-unfitted-level-1) 1pt solid;\n",
       "  color: var(--sklearn-color-unfitted-level-1);\n",
       "}\n",
       "\n",
       ".sk-estimator-doc-link.fitted,\n",
       "a:link.sk-estimator-doc-link.fitted,\n",
       "a:visited.sk-estimator-doc-link.fitted {\n",
       "  /* fitted */\n",
       "  border: var(--sklearn-color-fitted-level-1) 1pt solid;\n",
       "  color: var(--sklearn-color-fitted-level-1);\n",
       "}\n",
       "\n",
       "/* On hover */\n",
       "div.sk-estimator:hover .sk-estimator-doc-link:hover,\n",
       ".sk-estimator-doc-link:hover,\n",
       "div.sk-label-container:hover .sk-estimator-doc-link:hover,\n",
       ".sk-estimator-doc-link:hover {\n",
       "  /* unfitted */\n",
       "  background-color: var(--sklearn-color-unfitted-level-3);\n",
       "  color: var(--sklearn-color-background);\n",
       "  text-decoration: none;\n",
       "}\n",
       "\n",
       "div.sk-estimator.fitted:hover .sk-estimator-doc-link.fitted:hover,\n",
       ".sk-estimator-doc-link.fitted:hover,\n",
       "div.sk-label-container:hover .sk-estimator-doc-link.fitted:hover,\n",
       ".sk-estimator-doc-link.fitted:hover {\n",
       "  /* fitted */\n",
       "  background-color: var(--sklearn-color-fitted-level-3);\n",
       "  color: var(--sklearn-color-background);\n",
       "  text-decoration: none;\n",
       "}\n",
       "\n",
       "/* Span, style for the box shown on hovering the info icon */\n",
       ".sk-estimator-doc-link span {\n",
       "  display: none;\n",
       "  z-index: 9999;\n",
       "  position: relative;\n",
       "  font-weight: normal;\n",
       "  right: .2ex;\n",
       "  padding: .5ex;\n",
       "  margin: .5ex;\n",
       "  width: min-content;\n",
       "  min-width: 20ex;\n",
       "  max-width: 50ex;\n",
       "  color: var(--sklearn-color-text);\n",
       "  box-shadow: 2pt 2pt 4pt #999;\n",
       "  /* unfitted */\n",
       "  background: var(--sklearn-color-unfitted-level-0);\n",
       "  border: .5pt solid var(--sklearn-color-unfitted-level-3);\n",
       "}\n",
       "\n",
       ".sk-estimator-doc-link.fitted span {\n",
       "  /* fitted */\n",
       "  background: var(--sklearn-color-fitted-level-0);\n",
       "  border: var(--sklearn-color-fitted-level-3);\n",
       "}\n",
       "\n",
       ".sk-estimator-doc-link:hover span {\n",
       "  display: block;\n",
       "}\n",
       "\n",
       "/* \"?\"-specific style due to the `<a>` HTML tag */\n",
       "\n",
       "#sk-container-id-2 a.estimator_doc_link {\n",
       "  float: right;\n",
       "  font-size: 1rem;\n",
       "  line-height: 1em;\n",
       "  font-family: monospace;\n",
       "  background-color: var(--sklearn-color-background);\n",
       "  border-radius: 1rem;\n",
       "  height: 1rem;\n",
       "  width: 1rem;\n",
       "  text-decoration: none;\n",
       "  /* unfitted */\n",
       "  color: var(--sklearn-color-unfitted-level-1);\n",
       "  border: var(--sklearn-color-unfitted-level-1) 1pt solid;\n",
       "}\n",
       "\n",
       "#sk-container-id-2 a.estimator_doc_link.fitted {\n",
       "  /* fitted */\n",
       "  border: var(--sklearn-color-fitted-level-1) 1pt solid;\n",
       "  color: var(--sklearn-color-fitted-level-1);\n",
       "}\n",
       "\n",
       "/* On hover */\n",
       "#sk-container-id-2 a.estimator_doc_link:hover {\n",
       "  /* unfitted */\n",
       "  background-color: var(--sklearn-color-unfitted-level-3);\n",
       "  color: var(--sklearn-color-background);\n",
       "  text-decoration: none;\n",
       "}\n",
       "\n",
       "#sk-container-id-2 a.estimator_doc_link.fitted:hover {\n",
       "  /* fitted */\n",
       "  background-color: var(--sklearn-color-fitted-level-3);\n",
       "}\n",
       "</style><div id=\"sk-container-id-2\" class=\"sk-top-container\"><div class=\"sk-text-repr-fallback\"><pre>DecisionTreeClassifier(random_state=0)</pre><b>In a Jupyter environment, please rerun this cell to show the HTML representation or trust the notebook. <br />On GitHub, the HTML representation is unable to render, please try loading this page with nbviewer.org.</b></div><div class=\"sk-container\" hidden><div class=\"sk-item\"><div class=\"sk-estimator fitted sk-toggleable\"><input class=\"sk-toggleable__control sk-hidden--visually\" id=\"sk-estimator-id-2\" type=\"checkbox\" checked><label for=\"sk-estimator-id-2\" class=\"sk-toggleable__label fitted sk-toggleable__label-arrow\"><div><div>DecisionTreeClassifier</div></div><div><a class=\"sk-estimator-doc-link fitted\" rel=\"noreferrer\" target=\"_blank\" href=\"https://scikit-learn.org/1.6/modules/generated/sklearn.tree.DecisionTreeClassifier.html\">?<span>Documentation for DecisionTreeClassifier</span></a><span class=\"sk-estimator-doc-link fitted\">i<span>Fitted</span></span></div></label><div class=\"sk-toggleable__content fitted\"><pre>DecisionTreeClassifier(random_state=0)</pre></div> </div></div></div></div>"
      ],
      "text/plain": [
       "DecisionTreeClassifier(random_state=0)"
      ]
     },
     "execution_count": 13,
     "metadata": {},
     "output_type": "execute_result"
    }
   ],
   "source": [
    "# train a decision tree model\n",
    "from sklearn.tree import DecisionTreeClassifier\n",
    "clf = DecisionTreeClassifier(random_state=0)\n",
    "clf.fit(X_train, y_train)\n"
   ]
  },
  {
   "cell_type": "code",
   "execution_count": 15,
   "id": "bb42ea0d",
   "metadata": {},
   "outputs": [
    {
     "name": "stdout",
     "output_type": "stream",
     "text": [
      "Predicted label Versicolor = 9\n",
      "Predicted label Virginica = 6\n",
      "Predicted label Setosa = 7\n"
     ]
    }
   ],
   "source": [
    "X_test = test.drop(['class'], axis=1).values\n",
    "y_test = test['class'].values\n",
    "\n",
    "dt = clf.predict(X_test)\n",
    "\n",
    "print(\"Predicted label Versicolor =\",(dt == 'Iris-versicolor').sum())\n",
    "print(\"Predicted label Virginica =\", (dt == 'Iris-virginica').sum())\n",
    "print(\"Predicted label Setosa =\", (dt == 'Iris-setosa').sum())"
   ]
  },
  {
   "cell_type": "code",
   "execution_count": 16,
   "id": "ac83702e-308f-4208-b3d0-c0dded80f479",
   "metadata": {},
   "outputs": [
    {
     "name": "stdout",
     "output_type": "stream",
     "text": [
      "True Label Versicolor = 7\n",
      "True Label Virginica = 8\n",
      "True Label Setosa = 7\n"
     ]
    }
   ],
   "source": [
    "print(\"True Label Versicolor =\",(y_test == 'Iris-versicolor').sum())\n",
    "print(\"True Label Virginica =\", (y_test == 'Iris-virginica').sum())\n",
    "print(\"True Label Setosa =\", (y_test == 'Iris-setosa').sum())"
   ]
  },
  {
   "cell_type": "code",
   "execution_count": 17,
   "id": "899b4aa0",
   "metadata": {},
   "outputs": [
    {
     "data": {
      "text/plain": [
       "array([[6, 1, 0],\n",
       "       [3, 5, 0],\n",
       "       [0, 0, 7]])"
      ]
     },
     "execution_count": 17,
     "metadata": {},
     "output_type": "execute_result"
    }
   ],
   "source": [
    "import sklearn\n",
    "\n",
    "sklearn.metrics.confusion_matrix(y_test, dt,labels=['Iris-versicolor','Iris-virginica','Iris-setosa'], \n",
    "                                 sample_weight=None, normalize=None)"
   ]
  },
  {
   "cell_type": "code",
   "execution_count": 19,
   "id": "088caca6",
   "metadata": {},
   "outputs": [
    {
     "data": {
      "image/png": "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",
      "text/plain": [
       "<Figure size 640x480 with 2 Axes>"
      ]
     },
     "metadata": {},
     "output_type": "display_data"
    }
   ],
   "source": [
    "import matplotlib.pyplot as plt\n",
    "#from sklearn.metrics import plot_confusion_matrix\n",
    "from sklearn.metrics import ConfusionMatrixDisplay\n",
    " \n",
    "color = 'white'\n",
    "#matrix = plot_confusion_matrix(neigh, X_test, y_test, cmap=plt.cm.Blues)\n",
    "matrix = ConfusionMatrixDisplay.from_estimator(neigh, X_test, y_test, cmap=plt.cm.Blues)\n",
    "matrix.ax_.set_title('Confusion Matrix', color=color)\n",
    "plt.xlabel('Predicted Label', color=color)\n",
    "plt.ylabel('True Label', color=color)\n",
    "plt.gcf().axes[0].tick_params(colors=color)\n",
    "plt.gcf().axes[1].tick_params(colors=color)\n",
    "plt.show()\n"
   ]
  },
  {
   "cell_type": "code",
   "execution_count": 20,
   "id": "43f11980",
   "metadata": {},
   "outputs": [
    {
     "data": {
      "image/png": "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",
      "text/plain": [
       "<Figure size 2000x1000 with 1 Axes>"
      ]
     },
     "metadata": {},
     "output_type": "display_data"
    }
   ],
   "source": [
    "# print out decision tree\n",
    "from sklearn.tree import plot_tree\n",
    "plt.figure(figsize=(20,10))\n",
    "plot_tree(clf, filled=True, feature_names=train.columns)\n",
    "plt.show()\n"
   ]
  },
  {
   "cell_type": "markdown",
   "id": "bf5916de",
   "metadata": {},
   "source": [
    "### Patterns in data\n",
    "\n",
    "Look at the following tables: do you see any patterns? How could a classification model point these out?"
   ]
  },
  {
   "cell_type": "code",
   "execution_count": 31,
   "id": "6733f899",
   "metadata": {
    "collapsed": true,
    "jupyter": {
     "outputs_hidden": true
    },
    "tags": []
   },
   "outputs": [
    {
     "data": {
      "text/html": [
       "<div>\n",
       "<style scoped>\n",
       "    .dataframe tbody tr th:only-of-type {\n",
       "        vertical-align: middle;\n",
       "    }\n",
       "\n",
       "    .dataframe tbody tr th {\n",
       "        vertical-align: top;\n",
       "    }\n",
       "\n",
       "    .dataframe thead th {\n",
       "        text-align: right;\n",
       "    }\n",
       "</style>\n",
       "<table border=\"1\" class=\"dataframe\">\n",
       "  <thead>\n",
       "    <tr style=\"text-align: right;\">\n",
       "      <th></th>\n",
       "      <th>count</th>\n",
       "      <th>mean</th>\n",
       "      <th>std</th>\n",
       "      <th>min</th>\n",
       "      <th>25%</th>\n",
       "      <th>50%</th>\n",
       "      <th>75%</th>\n",
       "      <th>max</th>\n",
       "    </tr>\n",
       "    <tr>\n",
       "      <th>class</th>\n",
       "      <th></th>\n",
       "      <th></th>\n",
       "      <th></th>\n",
       "      <th></th>\n",
       "      <th></th>\n",
       "      <th></th>\n",
       "      <th></th>\n",
       "      <th></th>\n",
       "    </tr>\n",
       "  </thead>\n",
       "  <tbody>\n",
       "    <tr>\n",
       "      <th>Iris-setosa</th>\n",
       "      <td>50.0</td>\n",
       "      <td>5.006</td>\n",
       "      <td>0.352490</td>\n",
       "      <td>4.3</td>\n",
       "      <td>4.800</td>\n",
       "      <td>5.0</td>\n",
       "      <td>5.2</td>\n",
       "      <td>5.8</td>\n",
       "    </tr>\n",
       "    <tr>\n",
       "      <th>Iris-versicolor</th>\n",
       "      <td>50.0</td>\n",
       "      <td>5.936</td>\n",
       "      <td>0.516171</td>\n",
       "      <td>4.9</td>\n",
       "      <td>5.600</td>\n",
       "      <td>5.9</td>\n",
       "      <td>6.3</td>\n",
       "      <td>7.0</td>\n",
       "    </tr>\n",
       "    <tr>\n",
       "      <th>Iris-virginica</th>\n",
       "      <td>50.0</td>\n",
       "      <td>6.588</td>\n",
       "      <td>0.635880</td>\n",
       "      <td>4.9</td>\n",
       "      <td>6.225</td>\n",
       "      <td>6.5</td>\n",
       "      <td>6.9</td>\n",
       "      <td>7.9</td>\n",
       "    </tr>\n",
       "  </tbody>\n",
       "</table>\n",
       "</div>"
      ],
      "text/plain": [
       "                 count   mean       std  min    25%  50%  75%  max\n",
       "class                                                             \n",
       "Iris-setosa       50.0  5.006  0.352490  4.3  4.800  5.0  5.2  5.8\n",
       "Iris-versicolor   50.0  5.936  0.516171  4.9  5.600  5.9  6.3  7.0\n",
       "Iris-virginica    50.0  6.588  0.635880  4.9  6.225  6.5  6.9  7.9"
      ]
     },
     "execution_count": 31,
     "metadata": {},
     "output_type": "execute_result"
    }
   ],
   "source": [
    "patterns = X.groupby(['class'])\n",
    "patterns['sepal length'].describe()"
   ]
  },
  {
   "cell_type": "code",
   "execution_count": 32,
   "id": "018e6f0e",
   "metadata": {
    "collapsed": true,
    "jupyter": {
     "outputs_hidden": true
    },
    "tags": []
   },
   "outputs": [
    {
     "data": {
      "text/html": [
       "<div>\n",
       "<style scoped>\n",
       "    .dataframe tbody tr th:only-of-type {\n",
       "        vertical-align: middle;\n",
       "    }\n",
       "\n",
       "    .dataframe tbody tr th {\n",
       "        vertical-align: top;\n",
       "    }\n",
       "\n",
       "    .dataframe thead th {\n",
       "        text-align: right;\n",
       "    }\n",
       "</style>\n",
       "<table border=\"1\" class=\"dataframe\">\n",
       "  <thead>\n",
       "    <tr style=\"text-align: right;\">\n",
       "      <th></th>\n",
       "      <th>count</th>\n",
       "      <th>mean</th>\n",
       "      <th>std</th>\n",
       "      <th>min</th>\n",
       "      <th>25%</th>\n",
       "      <th>50%</th>\n",
       "      <th>75%</th>\n",
       "      <th>max</th>\n",
       "    </tr>\n",
       "    <tr>\n",
       "      <th>class</th>\n",
       "      <th></th>\n",
       "      <th></th>\n",
       "      <th></th>\n",
       "      <th></th>\n",
       "      <th></th>\n",
       "      <th></th>\n",
       "      <th></th>\n",
       "      <th></th>\n",
       "    </tr>\n",
       "  </thead>\n",
       "  <tbody>\n",
       "    <tr>\n",
       "      <th>Iris-setosa</th>\n",
       "      <td>50.0</td>\n",
       "      <td>3.418</td>\n",
       "      <td>0.381024</td>\n",
       "      <td>2.3</td>\n",
       "      <td>3.125</td>\n",
       "      <td>3.4</td>\n",
       "      <td>3.675</td>\n",
       "      <td>4.4</td>\n",
       "    </tr>\n",
       "    <tr>\n",
       "      <th>Iris-versicolor</th>\n",
       "      <td>50.0</td>\n",
       "      <td>2.770</td>\n",
       "      <td>0.313798</td>\n",
       "      <td>2.0</td>\n",
       "      <td>2.525</td>\n",
       "      <td>2.8</td>\n",
       "      <td>3.000</td>\n",
       "      <td>3.4</td>\n",
       "    </tr>\n",
       "    <tr>\n",
       "      <th>Iris-virginica</th>\n",
       "      <td>50.0</td>\n",
       "      <td>2.974</td>\n",
       "      <td>0.322497</td>\n",
       "      <td>2.2</td>\n",
       "      <td>2.800</td>\n",
       "      <td>3.0</td>\n",
       "      <td>3.175</td>\n",
       "      <td>3.8</td>\n",
       "    </tr>\n",
       "  </tbody>\n",
       "</table>\n",
       "</div>"
      ],
      "text/plain": [
       "                 count   mean       std  min    25%  50%    75%  max\n",
       "class                                                               \n",
       "Iris-setosa       50.0  3.418  0.381024  2.3  3.125  3.4  3.675  4.4\n",
       "Iris-versicolor   50.0  2.770  0.313798  2.0  2.525  2.8  3.000  3.4\n",
       "Iris-virginica    50.0  2.974  0.322497  2.2  2.800  3.0  3.175  3.8"
      ]
     },
     "execution_count": 32,
     "metadata": {},
     "output_type": "execute_result"
    }
   ],
   "source": [
    "patterns['sepal width'].describe()"
   ]
  },
  {
   "cell_type": "code",
   "execution_count": 33,
   "id": "0ae34b8f",
   "metadata": {
    "collapsed": true,
    "jupyter": {
     "outputs_hidden": true
    },
    "tags": []
   },
   "outputs": [
    {
     "data": {
      "text/html": [
       "<div>\n",
       "<style scoped>\n",
       "    .dataframe tbody tr th:only-of-type {\n",
       "        vertical-align: middle;\n",
       "    }\n",
       "\n",
       "    .dataframe tbody tr th {\n",
       "        vertical-align: top;\n",
       "    }\n",
       "\n",
       "    .dataframe thead th {\n",
       "        text-align: right;\n",
       "    }\n",
       "</style>\n",
       "<table border=\"1\" class=\"dataframe\">\n",
       "  <thead>\n",
       "    <tr style=\"text-align: right;\">\n",
       "      <th></th>\n",
       "      <th>count</th>\n",
       "      <th>mean</th>\n",
       "      <th>std</th>\n",
       "      <th>min</th>\n",
       "      <th>25%</th>\n",
       "      <th>50%</th>\n",
       "      <th>75%</th>\n",
       "      <th>max</th>\n",
       "    </tr>\n",
       "    <tr>\n",
       "      <th>class</th>\n",
       "      <th></th>\n",
       "      <th></th>\n",
       "      <th></th>\n",
       "      <th></th>\n",
       "      <th></th>\n",
       "      <th></th>\n",
       "      <th></th>\n",
       "      <th></th>\n",
       "    </tr>\n",
       "  </thead>\n",
       "  <tbody>\n",
       "    <tr>\n",
       "      <th>Iris-setosa</th>\n",
       "      <td>50.0</td>\n",
       "      <td>1.464</td>\n",
       "      <td>0.173511</td>\n",
       "      <td>1.0</td>\n",
       "      <td>1.4</td>\n",
       "      <td>1.50</td>\n",
       "      <td>1.575</td>\n",
       "      <td>1.9</td>\n",
       "    </tr>\n",
       "    <tr>\n",
       "      <th>Iris-versicolor</th>\n",
       "      <td>50.0</td>\n",
       "      <td>4.260</td>\n",
       "      <td>0.469911</td>\n",
       "      <td>3.0</td>\n",
       "      <td>4.0</td>\n",
       "      <td>4.35</td>\n",
       "      <td>4.600</td>\n",
       "      <td>5.1</td>\n",
       "    </tr>\n",
       "    <tr>\n",
       "      <th>Iris-virginica</th>\n",
       "      <td>50.0</td>\n",
       "      <td>5.552</td>\n",
       "      <td>0.551895</td>\n",
       "      <td>4.5</td>\n",
       "      <td>5.1</td>\n",
       "      <td>5.55</td>\n",
       "      <td>5.875</td>\n",
       "      <td>6.9</td>\n",
       "    </tr>\n",
       "  </tbody>\n",
       "</table>\n",
       "</div>"
      ],
      "text/plain": [
       "                 count   mean       std  min  25%   50%    75%  max\n",
       "class                                                              \n",
       "Iris-setosa       50.0  1.464  0.173511  1.0  1.4  1.50  1.575  1.9\n",
       "Iris-versicolor   50.0  4.260  0.469911  3.0  4.0  4.35  4.600  5.1\n",
       "Iris-virginica    50.0  5.552  0.551895  4.5  5.1  5.55  5.875  6.9"
      ]
     },
     "execution_count": 33,
     "metadata": {},
     "output_type": "execute_result"
    }
   ],
   "source": [
    "patterns['petal length'].describe()"
   ]
  },
  {
   "cell_type": "code",
   "execution_count": 34,
   "id": "166bacb4",
   "metadata": {},
   "outputs": [
    {
     "data": {
      "application/vnd.plotly.v1+json": {
       "config": {
        "plotlyServerURL": "https://plot.ly"
       },
       "data": [
        {
         "hovertemplate": "class=Iris-setosa<br>sepal length=%{x}<br>petal length=%{y}<br>petal width=%{z}<extra></extra>",
         "legendgroup": "Iris-setosa",
         "marker": {
          "color": "#636efa",
          "symbol": "circle"
         },
         "mode": "markers",
         "name": "Iris-setosa",
         "scene": "scene",
         "showlegend": true,
         "type": "scatter3d",
         "x": [
          5.1,
          4.9,
          4.7,
          4.6,
          5,
          5.4,
          4.6,
          5,
          4.4,
          4.9,
          5.4,
          4.8,
          4.8,
          4.3,
          5.8,
          5.7,
          5.4,
          5.1,
          5.7,
          5.1,
          5.4,
          5.1,
          4.6,
          5.1,
          4.8,
          5,
          5,
          5.2,
          5.2,
          4.7,
          4.8,
          5.4,
          5.2,
          5.5,
          4.9,
          5,
          5.5,
          4.9,
          4.4,
          5.1,
          5,
          4.5,
          4.4,
          5,
          5.1,
          4.8,
          5.1,
          4.6,
          5.3,
          5
         ],
         "y": [
          1.4,
          1.4,
          1.3,
          1.5,
          1.4,
          1.7,
          1.4,
          1.5,
          1.4,
          1.5,
          1.5,
          1.6,
          1.4,
          1.1,
          1.2,
          1.5,
          1.3,
          1.4,
          1.7,
          1.5,
          1.7,
          1.5,
          1,
          1.7,
          1.9,
          1.6,
          1.6,
          1.5,
          1.4,
          1.6,
          1.6,
          1.5,
          1.5,
          1.4,
          1.5,
          1.2,
          1.3,
          1.5,
          1.3,
          1.5,
          1.3,
          1.3,
          1.3,
          1.6,
          1.9,
          1.4,
          1.6,
          1.4,
          1.5,
          1.4
         ],
         "z": [
          0.2,
          0.2,
          0.2,
          0.2,
          0.2,
          0.4,
          0.3,
          0.2,
          0.2,
          0.1,
          0.2,
          0.2,
          0.1,
          0.1,
          0.2,
          0.4,
          0.4,
          0.3,
          0.3,
          0.3,
          0.2,
          0.4,
          0.2,
          0.5,
          0.2,
          0.2,
          0.4,
          0.2,
          0.2,
          0.2,
          0.2,
          0.4,
          0.1,
          0.2,
          0.1,
          0.2,
          0.2,
          0.1,
          0.2,
          0.2,
          0.3,
          0.3,
          0.2,
          0.6,
          0.4,
          0.3,
          0.2,
          0.2,
          0.2,
          0.2
         ]
        },
        {
         "hovertemplate": "class=Iris-versicolor<br>sepal length=%{x}<br>petal length=%{y}<br>petal width=%{z}<extra></extra>",
         "legendgroup": "Iris-versicolor",
         "marker": {
          "color": "#EF553B",
          "symbol": "circle"
         },
         "mode": "markers",
         "name": "Iris-versicolor",
         "scene": "scene",
         "showlegend": true,
         "type": "scatter3d",
         "x": [
          7,
          6.4,
          6.9,
          5.5,
          6.5,
          5.7,
          6.3,
          4.9,
          6.6,
          5.2,
          5,
          5.9,
          6,
          6.1,
          5.6,
          6.7,
          5.6,
          5.8,
          6.2,
          5.6,
          5.9,
          6.1,
          6.3,
          6.1,
          6.4,
          6.6,
          6.8,
          6.7,
          6,
          5.7,
          5.5,
          5.5,
          5.8,
          6,
          5.4,
          6,
          6.7,
          6.3,
          5.6,
          5.5,
          5.5,
          6.1,
          5.8,
          5,
          5.6,
          5.7,
          5.7,
          6.2,
          5.1,
          5.7
         ],
         "y": [
          4.7,
          4.5,
          4.9,
          4,
          4.6,
          4.5,
          4.7,
          3.3,
          4.6,
          3.9,
          3.5,
          4.2,
          4,
          4.7,
          3.6,
          4.4,
          4.5,
          4.1,
          4.5,
          3.9,
          4.8,
          4,
          4.9,
          4.7,
          4.3,
          4.4,
          4.8,
          5,
          4.5,
          3.5,
          3.8,
          3.7,
          3.9,
          5.1,
          4.5,
          4.5,
          4.7,
          4.4,
          4.1,
          4,
          4.4,
          4.6,
          4,
          3.3,
          4.2,
          4.2,
          4.2,
          4.3,
          3,
          4.1
         ],
         "z": [
          1.4,
          1.5,
          1.5,
          1.3,
          1.5,
          1.3,
          1.6,
          1,
          1.3,
          1.4,
          1,
          1.5,
          1,
          1.4,
          1.3,
          1.4,
          1.5,
          1,
          1.5,
          1.1,
          1.8,
          1.3,
          1.5,
          1.2,
          1.3,
          1.4,
          1.4,
          1.7,
          1.5,
          1,
          1.1,
          1,
          1.2,
          1.6,
          1.5,
          1.6,
          1.5,
          1.3,
          1.3,
          1.3,
          1.2,
          1.4,
          1.2,
          1,
          1.3,
          1.2,
          1.3,
          1.3,
          1.1,
          1.3
         ]
        },
        {
         "hovertemplate": "class=Iris-virginica<br>sepal length=%{x}<br>petal length=%{y}<br>petal width=%{z}<extra></extra>",
         "legendgroup": "Iris-virginica",
         "marker": {
          "color": "#00cc96",
          "symbol": "circle"
         },
         "mode": "markers",
         "name": "Iris-virginica",
         "scene": "scene",
         "showlegend": true,
         "type": "scatter3d",
         "x": [
          6.3,
          5.8,
          7.1,
          6.3,
          6.5,
          7.6,
          4.9,
          7.3,
          6.7,
          7.2,
          6.5,
          6.4,
          6.8,
          5.7,
          5.8,
          6.4,
          6.5,
          7.7,
          7.7,
          6,
          6.9,
          5.6,
          7.7,
          6.3,
          6.7,
          7.2,
          6.2,
          6.1,
          6.4,
          7.2,
          7.4,
          7.9,
          6.4,
          6.3,
          6.1,
          7.7,
          6.3,
          6.4,
          6,
          6.9,
          6.7,
          6.9,
          5.8,
          6.8,
          6.7,
          6.7,
          6.3,
          6.5,
          6.2,
          5.9
         ],
         "y": [
          6,
          5.1,
          5.9,
          5.6,
          5.8,
          6.6,
          4.5,
          6.3,
          5.8,
          6.1,
          5.1,
          5.3,
          5.5,
          5,
          5.1,
          5.3,
          5.5,
          6.7,
          6.9,
          5,
          5.7,
          4.9,
          6.7,
          4.9,
          5.7,
          6,
          4.8,
          4.9,
          5.6,
          5.8,
          6.1,
          6.4,
          5.6,
          5.1,
          5.6,
          6.1,
          5.6,
          5.5,
          4.8,
          5.4,
          5.6,
          5.1,
          5.1,
          5.9,
          5.7,
          5.2,
          5,
          5.2,
          5.4,
          5.1
         ],
         "z": [
          2.5,
          1.9,
          2.1,
          1.8,
          2.2,
          2.1,
          1.7,
          1.8,
          1.8,
          2.5,
          2,
          1.9,
          2.1,
          2,
          2.4,
          2.3,
          1.8,
          2.2,
          2.3,
          1.5,
          2.3,
          2,
          2,
          1.8,
          2.1,
          1.8,
          1.8,
          1.8,
          2.1,
          1.6,
          1.9,
          2,
          2.2,
          1.5,
          1.4,
          2.3,
          2.4,
          1.8,
          1.8,
          2.1,
          2.4,
          2.3,
          1.9,
          2.3,
          2.5,
          2.3,
          1.9,
          2,
          2.3,
          1.8
         ]
        }
       ],
       "layout": {
        "legend": {
         "title": {
          "text": "class"
         },
         "tracegroupgap": 0
        },
        "margin": {
         "t": 60
        },
        "scene": {
         "domain": {
          "x": [
           0,
           1
          ],
          "y": [
           0,
           1
          ]
         },
         "xaxis": {
          "title": {
           "text": "sepal length"
          }
         },
         "yaxis": {
          "title": {
           "text": "petal length"
          }
         },
         "zaxis": {
          "title": {
           "text": "petal width"
          }
         }
        },
        "template": {
         "data": {
          "bar": [
           {
            "error_x": {
             "color": "#2a3f5f"
            },
            "error_y": {
             "color": "#2a3f5f"
            },
            "marker": {
             "line": {
              "color": "#E5ECF6",
              "width": 0.5
             },
             "pattern": {
              "fillmode": "overlay",
              "size": 10,
              "solidity": 0.2
             }
            },
            "type": "bar"
           }
          ],
          "barpolar": [
           {
            "marker": {
             "line": {
              "color": "#E5ECF6",
              "width": 0.5
             },
             "pattern": {
              "fillmode": "overlay",
              "size": 10,
              "solidity": 0.2
             }
            },
            "type": "barpolar"
           }
          ],
          "carpet": [
           {
            "aaxis": {
             "endlinecolor": "#2a3f5f",
             "gridcolor": "white",
             "linecolor": "white",
             "minorgridcolor": "white",
             "startlinecolor": "#2a3f5f"
            },
            "baxis": {
             "endlinecolor": "#2a3f5f",
             "gridcolor": "white",
             "linecolor": "white",
             "minorgridcolor": "white",
             "startlinecolor": "#2a3f5f"
            },
            "type": "carpet"
           }
          ],
          "choropleth": [
           {
            "colorbar": {
             "outlinewidth": 0,
             "ticks": ""
            },
            "type": "choropleth"
           }
          ],
          "contour": [
           {
            "colorbar": {
             "outlinewidth": 0,
             "ticks": ""
            },
            "colorscale": [
             [
              0,
              "#0d0887"
             ],
             [
              0.1111111111111111,
              "#46039f"
             ],
             [
              0.2222222222222222,
              "#7201a8"
             ],
             [
              0.3333333333333333,
              "#9c179e"
             ],
             [
              0.4444444444444444,
              "#bd3786"
             ],
             [
              0.5555555555555556,
              "#d8576b"
             ],
             [
              0.6666666666666666,
              "#ed7953"
             ],
             [
              0.7777777777777778,
              "#fb9f3a"
             ],
             [
              0.8888888888888888,
              "#fdca26"
             ],
             [
              1,
              "#f0f921"
             ]
            ],
            "type": "contour"
           }
          ],
          "contourcarpet": [
           {
            "colorbar": {
             "outlinewidth": 0,
             "ticks": ""
            },
            "type": "contourcarpet"
           }
          ],
          "heatmap": [
           {
            "colorbar": {
             "outlinewidth": 0,
             "ticks": ""
            },
            "colorscale": [
             [
              0,
              "#0d0887"
             ],
             [
              0.1111111111111111,
              "#46039f"
             ],
             [
              0.2222222222222222,
              "#7201a8"
             ],
             [
              0.3333333333333333,
              "#9c179e"
             ],
             [
              0.4444444444444444,
              "#bd3786"
             ],
             [
              0.5555555555555556,
              "#d8576b"
             ],
             [
              0.6666666666666666,
              "#ed7953"
             ],
             [
              0.7777777777777778,
              "#fb9f3a"
             ],
             [
              0.8888888888888888,
              "#fdca26"
             ],
             [
              1,
              "#f0f921"
             ]
            ],
            "type": "heatmap"
           }
          ],
          "heatmapgl": [
           {
            "colorbar": {
             "outlinewidth": 0,
             "ticks": ""
            },
            "colorscale": [
             [
              0,
              "#0d0887"
             ],
             [
              0.1111111111111111,
              "#46039f"
             ],
             [
              0.2222222222222222,
              "#7201a8"
             ],
             [
              0.3333333333333333,
              "#9c179e"
             ],
             [
              0.4444444444444444,
              "#bd3786"
             ],
             [
              0.5555555555555556,
              "#d8576b"
             ],
             [
              0.6666666666666666,
              "#ed7953"
             ],
             [
              0.7777777777777778,
              "#fb9f3a"
             ],
             [
              0.8888888888888888,
              "#fdca26"
             ],
             [
              1,
              "#f0f921"
             ]
            ],
            "type": "heatmapgl"
           }
          ],
          "histogram": [
           {
            "marker": {
             "pattern": {
              "fillmode": "overlay",
              "size": 10,
              "solidity": 0.2
             }
            },
            "type": "histogram"
           }
          ],
          "histogram2d": [
           {
            "colorbar": {
             "outlinewidth": 0,
             "ticks": ""
            },
            "colorscale": [
             [
              0,
              "#0d0887"
             ],
             [
              0.1111111111111111,
              "#46039f"
             ],
             [
              0.2222222222222222,
              "#7201a8"
             ],
             [
              0.3333333333333333,
              "#9c179e"
             ],
             [
              0.4444444444444444,
              "#bd3786"
             ],
             [
              0.5555555555555556,
              "#d8576b"
             ],
             [
              0.6666666666666666,
              "#ed7953"
             ],
             [
              0.7777777777777778,
              "#fb9f3a"
             ],
             [
              0.8888888888888888,
              "#fdca26"
             ],
             [
              1,
              "#f0f921"
             ]
            ],
            "type": "histogram2d"
           }
          ],
          "histogram2dcontour": [
           {
            "colorbar": {
             "outlinewidth": 0,
             "ticks": ""
            },
            "colorscale": [
             [
              0,
              "#0d0887"
             ],
             [
              0.1111111111111111,
              "#46039f"
             ],
             [
              0.2222222222222222,
              "#7201a8"
             ],
             [
              0.3333333333333333,
              "#9c179e"
             ],
             [
              0.4444444444444444,
              "#bd3786"
             ],
             [
              0.5555555555555556,
              "#d8576b"
             ],
             [
              0.6666666666666666,
              "#ed7953"
             ],
             [
              0.7777777777777778,
              "#fb9f3a"
             ],
             [
              0.8888888888888888,
              "#fdca26"
             ],
             [
              1,
              "#f0f921"
             ]
            ],
            "type": "histogram2dcontour"
           }
          ],
          "mesh3d": [
           {
            "colorbar": {
             "outlinewidth": 0,
             "ticks": ""
            },
            "type": "mesh3d"
           }
          ],
          "parcoords": [
           {
            "line": {
             "colorbar": {
              "outlinewidth": 0,
              "ticks": ""
             }
            },
            "type": "parcoords"
           }
          ],
          "pie": [
           {
            "automargin": true,
            "type": "pie"
           }
          ],
          "scatter": [
           {
            "fillpattern": {
             "fillmode": "overlay",
             "size": 10,
             "solidity": 0.2
            },
            "type": "scatter"
           }
          ],
          "scatter3d": [
           {
            "line": {
             "colorbar": {
              "outlinewidth": 0,
              "ticks": ""
             }
            },
            "marker": {
             "colorbar": {
              "outlinewidth": 0,
              "ticks": ""
             }
            },
            "type": "scatter3d"
           }
          ],
          "scattercarpet": [
           {
            "marker": {
             "colorbar": {
              "outlinewidth": 0,
              "ticks": ""
             }
            },
            "type": "scattercarpet"
           }
          ],
          "scattergeo": [
           {
            "marker": {
             "colorbar": {
              "outlinewidth": 0,
              "ticks": ""
             }
            },
            "type": "scattergeo"
           }
          ],
          "scattergl": [
           {
            "marker": {
             "colorbar": {
              "outlinewidth": 0,
              "ticks": ""
             }
            },
            "type": "scattergl"
           }
          ],
          "scattermapbox": [
           {
            "marker": {
             "colorbar": {
              "outlinewidth": 0,
              "ticks": ""
             }
            },
            "type": "scattermapbox"
           }
          ],
          "scatterpolar": [
           {
            "marker": {
             "colorbar": {
              "outlinewidth": 0,
              "ticks": ""
             }
            },
            "type": "scatterpolar"
           }
          ],
          "scatterpolargl": [
           {
            "marker": {
             "colorbar": {
              "outlinewidth": 0,
              "ticks": ""
             }
            },
            "type": "scatterpolargl"
           }
          ],
          "scatterternary": [
           {
            "marker": {
             "colorbar": {
              "outlinewidth": 0,
              "ticks": ""
             }
            },
            "type": "scatterternary"
           }
          ],
          "surface": [
           {
            "colorbar": {
             "outlinewidth": 0,
             "ticks": ""
            },
            "colorscale": [
             [
              0,
              "#0d0887"
             ],
             [
              0.1111111111111111,
              "#46039f"
             ],
             [
              0.2222222222222222,
              "#7201a8"
             ],
             [
              0.3333333333333333,
              "#9c179e"
             ],
             [
              0.4444444444444444,
              "#bd3786"
             ],
             [
              0.5555555555555556,
              "#d8576b"
             ],
             [
              0.6666666666666666,
              "#ed7953"
             ],
             [
              0.7777777777777778,
              "#fb9f3a"
             ],
             [
              0.8888888888888888,
              "#fdca26"
             ],
             [
              1,
              "#f0f921"
             ]
            ],
            "type": "surface"
           }
          ],
          "table": [
           {
            "cells": {
             "fill": {
              "color": "#EBF0F8"
             },
             "line": {
              "color": "white"
             }
            },
            "header": {
             "fill": {
              "color": "#C8D4E3"
             },
             "line": {
              "color": "white"
             }
            },
            "type": "table"
           }
          ]
         },
         "layout": {
          "annotationdefaults": {
           "arrowcolor": "#2a3f5f",
           "arrowhead": 0,
           "arrowwidth": 1
          },
          "autotypenumbers": "strict",
          "coloraxis": {
           "colorbar": {
            "outlinewidth": 0,
            "ticks": ""
           }
          },
          "colorscale": {
           "diverging": [
            [
             0,
             "#8e0152"
            ],
            [
             0.1,
             "#c51b7d"
            ],
            [
             0.2,
             "#de77ae"
            ],
            [
             0.3,
             "#f1b6da"
            ],
            [
             0.4,
             "#fde0ef"
            ],
            [
             0.5,
             "#f7f7f7"
            ],
            [
             0.6,
             "#e6f5d0"
            ],
            [
             0.7,
             "#b8e186"
            ],
            [
             0.8,
             "#7fbc41"
            ],
            [
             0.9,
             "#4d9221"
            ],
            [
             1,
             "#276419"
            ]
           ],
           "sequential": [
            [
             0,
             "#0d0887"
            ],
            [
             0.1111111111111111,
             "#46039f"
            ],
            [
             0.2222222222222222,
             "#7201a8"
            ],
            [
             0.3333333333333333,
             "#9c179e"
            ],
            [
             0.4444444444444444,
             "#bd3786"
            ],
            [
             0.5555555555555556,
             "#d8576b"
            ],
            [
             0.6666666666666666,
             "#ed7953"
            ],
            [
             0.7777777777777778,
             "#fb9f3a"
            ],
            [
             0.8888888888888888,
             "#fdca26"
            ],
            [
             1,
             "#f0f921"
            ]
           ],
           "sequentialminus": [
            [
             0,
             "#0d0887"
            ],
            [
             0.1111111111111111,
             "#46039f"
            ],
            [
             0.2222222222222222,
             "#7201a8"
            ],
            [
             0.3333333333333333,
             "#9c179e"
            ],
            [
             0.4444444444444444,
             "#bd3786"
            ],
            [
             0.5555555555555556,
             "#d8576b"
            ],
            [
             0.6666666666666666,
             "#ed7953"
            ],
            [
             0.7777777777777778,
             "#fb9f3a"
            ],
            [
             0.8888888888888888,
             "#fdca26"
            ],
            [
             1,
             "#f0f921"
            ]
           ]
          },
          "colorway": [
           "#636efa",
           "#EF553B",
           "#00cc96",
           "#ab63fa",
           "#FFA15A",
           "#19d3f3",
           "#FF6692",
           "#B6E880",
           "#FF97FF",
           "#FECB52"
          ],
          "font": {
           "color": "#2a3f5f"
          },
          "geo": {
           "bgcolor": "white",
           "lakecolor": "white",
           "landcolor": "#E5ECF6",
           "showlakes": true,
           "showland": true,
           "subunitcolor": "white"
          },
          "hoverlabel": {
           "align": "left"
          },
          "hovermode": "closest",
          "mapbox": {
           "style": "light"
          },
          "paper_bgcolor": "white",
          "plot_bgcolor": "#E5ECF6",
          "polar": {
           "angularaxis": {
            "gridcolor": "white",
            "linecolor": "white",
            "ticks": ""
           },
           "bgcolor": "#E5ECF6",
           "radialaxis": {
            "gridcolor": "white",
            "linecolor": "white",
            "ticks": ""
           }
          },
          "scene": {
           "xaxis": {
            "backgroundcolor": "#E5ECF6",
            "gridcolor": "white",
            "gridwidth": 2,
            "linecolor": "white",
            "showbackground": true,
            "ticks": "",
            "zerolinecolor": "white"
           },
           "yaxis": {
            "backgroundcolor": "#E5ECF6",
            "gridcolor": "white",
            "gridwidth": 2,
            "linecolor": "white",
            "showbackground": true,
            "ticks": "",
            "zerolinecolor": "white"
           },
           "zaxis": {
            "backgroundcolor": "#E5ECF6",
            "gridcolor": "white",
            "gridwidth": 2,
            "linecolor": "white",
            "showbackground": true,
            "ticks": "",
            "zerolinecolor": "white"
           }
          },
          "shapedefaults": {
           "line": {
            "color": "#2a3f5f"
           }
          },
          "ternary": {
           "aaxis": {
            "gridcolor": "white",
            "linecolor": "white",
            "ticks": ""
           },
           "baxis": {
            "gridcolor": "white",
            "linecolor": "white",
            "ticks": ""
           },
           "bgcolor": "#E5ECF6",
           "caxis": {
            "gridcolor": "white",
            "linecolor": "white",
            "ticks": ""
           }
          },
          "title": {
           "x": 0.05
          },
          "xaxis": {
           "automargin": true,
           "gridcolor": "white",
           "linecolor": "white",
           "ticks": "",
           "title": {
            "standoff": 15
           },
           "zerolinecolor": "white",
           "zerolinewidth": 2
          },
          "yaxis": {
           "automargin": true,
           "gridcolor": "white",
           "linecolor": "white",
           "ticks": "",
           "title": {
            "standoff": 15
           },
           "zerolinecolor": "white",
           "zerolinewidth": 2
          }
         }
        }
       }
      }
     },
     "metadata": {},
     "output_type": "display_data"
    }
   ],
   "source": [
    "\n",
    "fig = px.scatter_3d(X, x = 'sepal length', \n",
    "                     y = 'petal length', z='petal width', color = 'class')\n",
    "\n",
    "fig\n",
    "\n",
    "#fig.show(renderer='browser')"
   ]
  },
  {
   "cell_type": "markdown",
   "id": "7e299a4b",
   "metadata": {},
   "source": [
    "### Mild disclaimer --\n",
    "*Do not worry about understanding the machine learning in this example!* We go over kNN models at length later in the course; you do not need to understand exactly what the model is doing quite yet. For now, ask yourself:\n",
    "\n",
    "1. What is the purpose of data splitting?\n",
    "2. What can we learn from data testing/validation?\n",
    "3. How do we know if a model is working?\n",
    "4. How could we find the model error?\n",
    "\n",
    "If you want, try changing the size of the test data or the number of n_neighbors and see what changes!"
   ]
  }
 ],
 "metadata": {
  "kernelspec": {
   "display_name": "Python 3",
   "language": "python",
   "name": "python3"
  },
  "language_info": {
   "codemirror_mode": {
    "name": "ipython",
    "version": 3
   },
   "file_extension": ".py",
   "mimetype": "text/x-python",
   "name": "python",
   "nbconvert_exporter": "python",
   "pygments_lexer": "ipython3",
   "version": "3.12.8"
  }
 },
 "nbformat": 4,
 "nbformat_minor": 5
}
=======
{
 "cells": [
  {
   "cell_type": "markdown",
   "id": "f392b340",
   "metadata": {},
   "source": [
    "## ML 1 In-Class"
   ]
  },
  {
   "attachments": {},
   "cell_type": "markdown",
   "id": "e54306b5-498c-4195-b762-ce015e3a9a53",
   "metadata": {
    "tags": []
   },
   "source": [
    "[![Open In Colab](https://colab.research.google.com/assets/colab-badge.svg)](https://colab.research.google.com/github/UVADS/DS-3001/blob/main/04_ML_Concepts_I_Foundations/ML1_inclass.ipynb#scrollTo=9723a7ee)"
   ]
  },
  {
   "cell_type": "code",
   "execution_count": 2,
   "id": "9723a7ee",
   "metadata": {
    "jupyter": {
     "source_hidden": true
    },
    "tags": []
   },
   "outputs": [],
   "source": [
    "# import packages\n",
    "\n",
    "from pydataset import data\n",
    "import pandas as pd\n",
    "from sklearn.model_selection import train_test_split\n",
    "from sklearn.neighbors import KNeighborsClassifier\n",
    "#import plotly.express as px\n",
    "import warnings\n",
    "warnings.filterwarnings('ignore')"
   ]
  },
  {
   "cell_type": "code",
   "execution_count": 3,
   "id": "b1f8bb64",
   "metadata": {
    "collapsed": true,
    "jupyter": {
     "outputs_hidden": true
    },
    "tags": []
   },
   "outputs": [],
   "source": [
    "from ucimlrepo import fetch_ucirepo \n",
    "  \n",
    "# fetch dataset \n",
    "iris = fetch_ucirepo(id=53) \n",
    "\n",
    "X = iris.data.features \n",
    "y = iris.data.targets\n",
    "\n",
    "#add class from y to X \n",
    "X['class'] = y['class']"
   ]
  },
  {
   "cell_type": "markdown",
   "id": "139fd6f8",
   "metadata": {},
   "source": [
    "What mental models can we see from these data sets? What data science questions can we ask? "
   ]
  },
  {
   "cell_type": "markdown",
   "id": "d2405c97",
   "metadata": {},
   "source": [
    "### Example: k-Nearest Neighbors\n",
    "\n",
    "We want to first split the data into train and test data sets. To do this, we will use sklearn's train_test_split method.\n",
    "\n",
    "First, we need to separate variables into independent and dependent dataframes."
   ]
  },
  {
   "cell_type": "code",
   "execution_count": 4,
   "id": "0c1ef8aa",
   "metadata": {},
   "outputs": [],
   "source": [
    "\n",
    "train, test = train_test_split(X,  test_size=0.3, stratify = X['class']) # 70% training and 30% test, \n",
    "#stratify to ensure equal distribution of classes"
   ]
  },
  {
   "cell_type": "code",
   "execution_count": 5,
   "id": "af6f3f68",
   "metadata": {},
   "outputs": [
    {
     "data": {
      "text/html": [
       "<div>\n",
       "<style scoped>\n",
       "    .dataframe tbody tr th:only-of-type {\n",
       "        vertical-align: middle;\n",
       "    }\n",
       "\n",
       "    .dataframe tbody tr th {\n",
       "        vertical-align: top;\n",
       "    }\n",
       "\n",
       "    .dataframe thead th {\n",
       "        text-align: right;\n",
       "    }\n",
       "</style>\n",
       "<table border=\"1\" class=\"dataframe\">\n",
       "  <thead>\n",
       "    <tr style=\"text-align: right;\">\n",
       "      <th></th>\n",
       "      <th>sepal length</th>\n",
       "      <th>sepal width</th>\n",
       "      <th>petal length</th>\n",
       "      <th>petal width</th>\n",
       "    </tr>\n",
       "  </thead>\n",
       "  <tbody>\n",
       "    <tr>\n",
       "      <th>count</th>\n",
       "      <td>105.000000</td>\n",
       "      <td>105.000000</td>\n",
       "      <td>105.000000</td>\n",
       "      <td>105.00000</td>\n",
       "    </tr>\n",
       "    <tr>\n",
       "      <th>mean</th>\n",
       "      <td>5.839048</td>\n",
       "      <td>3.020000</td>\n",
       "      <td>3.757143</td>\n",
       "      <td>1.18381</td>\n",
       "    </tr>\n",
       "    <tr>\n",
       "      <th>std</th>\n",
       "      <td>0.889089</td>\n",
       "      <td>0.425712</td>\n",
       "      <td>1.788524</td>\n",
       "      <td>0.75995</td>\n",
       "    </tr>\n",
       "    <tr>\n",
       "      <th>min</th>\n",
       "      <td>4.300000</td>\n",
       "      <td>2.000000</td>\n",
       "      <td>1.100000</td>\n",
       "      <td>0.10000</td>\n",
       "    </tr>\n",
       "    <tr>\n",
       "      <th>25%</th>\n",
       "      <td>5.000000</td>\n",
       "      <td>2.800000</td>\n",
       "      <td>1.500000</td>\n",
       "      <td>0.30000</td>\n",
       "    </tr>\n",
       "    <tr>\n",
       "      <th>50%</th>\n",
       "      <td>5.800000</td>\n",
       "      <td>3.000000</td>\n",
       "      <td>4.300000</td>\n",
       "      <td>1.30000</td>\n",
       "    </tr>\n",
       "    <tr>\n",
       "      <th>75%</th>\n",
       "      <td>6.500000</td>\n",
       "      <td>3.200000</td>\n",
       "      <td>5.100000</td>\n",
       "      <td>1.80000</td>\n",
       "    </tr>\n",
       "    <tr>\n",
       "      <th>max</th>\n",
       "      <td>7.900000</td>\n",
       "      <td>4.400000</td>\n",
       "      <td>6.900000</td>\n",
       "      <td>2.50000</td>\n",
       "    </tr>\n",
       "  </tbody>\n",
       "</table>\n",
       "</div>"
      ],
      "text/plain": [
       "       sepal length  sepal width  petal length  petal width\n",
       "count    105.000000   105.000000    105.000000    105.00000\n",
       "mean       5.839048     3.020000      3.757143      1.18381\n",
       "std        0.889089     0.425712      1.788524      0.75995\n",
       "min        4.300000     2.000000      1.100000      0.10000\n",
       "25%        5.000000     2.800000      1.500000      0.30000\n",
       "50%        5.800000     3.000000      4.300000      1.30000\n",
       "75%        6.500000     3.200000      5.100000      1.80000\n",
       "max        7.900000     4.400000      6.900000      2.50000"
      ]
     },
     "execution_count": 5,
     "metadata": {},
     "output_type": "execute_result"
    }
   ],
   "source": [
    "train.describe()"
   ]
  },
  {
   "cell_type": "code",
   "execution_count": 6,
   "id": "77b71d02",
   "metadata": {},
   "outputs": [],
   "source": [
    "test, validation = train_test_split(test, test_size=0.5, stratify=test['class'])"
   ]
  },
  {
   "cell_type": "code",
   "execution_count": 6,
   "id": "cefc9632-42ea-452f-8e67-058218422449",
   "metadata": {
    "collapsed": true,
    "jupyter": {
     "outputs_hidden": true
    },
    "tags": []
   },
   "outputs": [
    {
     "data": {
      "text/html": [
       "<div>\n",
       "<style scoped>\n",
       "    .dataframe tbody tr th:only-of-type {\n",
       "        vertical-align: middle;\n",
       "    }\n",
       "\n",
       "    .dataframe tbody tr th {\n",
       "        vertical-align: top;\n",
       "    }\n",
       "\n",
       "    .dataframe thead th {\n",
       "        text-align: right;\n",
       "    }\n",
       "</style>\n",
       "<table border=\"1\" class=\"dataframe\">\n",
       "  <thead>\n",
       "    <tr style=\"text-align: right;\">\n",
       "      <th></th>\n",
       "      <th>sepal length</th>\n",
       "      <th>sepal width</th>\n",
       "      <th>petal length</th>\n",
       "      <th>petal width</th>\n",
       "    </tr>\n",
       "  </thead>\n",
       "  <tbody>\n",
       "    <tr>\n",
       "      <th>count</th>\n",
       "      <td>45.000000</td>\n",
       "      <td>45.000000</td>\n",
       "      <td>45.000000</td>\n",
       "      <td>45.000000</td>\n",
       "    </tr>\n",
       "    <tr>\n",
       "      <th>mean</th>\n",
       "      <td>5.853333</td>\n",
       "      <td>3.133333</td>\n",
       "      <td>3.762222</td>\n",
       "      <td>1.233333</td>\n",
       "    </tr>\n",
       "    <tr>\n",
       "      <th>std</th>\n",
       "      <td>0.673390</td>\n",
       "      <td>0.446196</td>\n",
       "      <td>1.726701</td>\n",
       "      <td>0.778110</td>\n",
       "    </tr>\n",
       "    <tr>\n",
       "      <th>min</th>\n",
       "      <td>4.600000</td>\n",
       "      <td>2.400000</td>\n",
       "      <td>1.000000</td>\n",
       "      <td>0.100000</td>\n",
       "    </tr>\n",
       "    <tr>\n",
       "      <th>25%</th>\n",
       "      <td>5.400000</td>\n",
       "      <td>2.800000</td>\n",
       "      <td>1.700000</td>\n",
       "      <td>0.300000</td>\n",
       "    </tr>\n",
       "    <tr>\n",
       "      <th>50%</th>\n",
       "      <td>5.800000</td>\n",
       "      <td>3.000000</td>\n",
       "      <td>4.500000</td>\n",
       "      <td>1.400000</td>\n",
       "    </tr>\n",
       "    <tr>\n",
       "      <th>75%</th>\n",
       "      <td>6.300000</td>\n",
       "      <td>3.400000</td>\n",
       "      <td>5.100000</td>\n",
       "      <td>1.900000</td>\n",
       "    </tr>\n",
       "    <tr>\n",
       "      <th>max</th>\n",
       "      <td>7.700000</td>\n",
       "      <td>4.100000</td>\n",
       "      <td>6.700000</td>\n",
       "      <td>2.500000</td>\n",
       "    </tr>\n",
       "  </tbody>\n",
       "</table>\n",
       "</div>"
      ],
      "text/plain": [
       "       sepal length  sepal width  petal length  petal width\n",
       "count     45.000000    45.000000     45.000000    45.000000\n",
       "mean       5.853333     3.133333      3.762222     1.233333\n",
       "std        0.673390     0.446196      1.726701     0.778110\n",
       "min        4.600000     2.400000      1.000000     0.100000\n",
       "25%        5.400000     2.800000      1.700000     0.300000\n",
       "50%        5.800000     3.000000      4.500000     1.400000\n",
       "75%        6.300000     3.400000      5.100000     1.900000\n",
       "max        7.700000     4.100000      6.700000     2.500000"
      ]
     },
     "execution_count": 6,
     "metadata": {},
     "output_type": "execute_result"
    }
   ],
   "source": [
    "test.describe()"
   ]
  },
  {
   "cell_type": "markdown",
   "id": "d99a5636",
   "metadata": {
    "tags": []
   },
   "source": [
    "Now, we use the scikitlearn KNN classifier."
   ]
  },
  {
   "cell_type": "code",
   "execution_count": null,
   "id": "3840124e-742f-4591-ae02-caca05ee506f",
   "metadata": {
    "collapsed": true,
    "jupyter": {
     "outputs_hidden": true,
     "source_hidden": true
    },
    "tags": []
   },
   "outputs": [],
   "source": [
    "validation.describe()"
   ]
  },
  {
   "cell_type": "code",
   "execution_count": 7,
   "id": "6d5ac607",
   "metadata": {
    "tags": []
   },
   "outputs": [
    {
     "data": {
      "text/html": [
       "<style>#sk-container-id-1 {\n",
       "  /* Definition of color scheme common for light and dark mode */\n",
       "  --sklearn-color-text: #000;\n",
       "  --sklearn-color-text-muted: #666;\n",
       "  --sklearn-color-line: gray;\n",
       "  /* Definition of color scheme for unfitted estimators */\n",
       "  --sklearn-color-unfitted-level-0: #fff5e6;\n",
       "  --sklearn-color-unfitted-level-1: #f6e4d2;\n",
       "  --sklearn-color-unfitted-level-2: #ffe0b3;\n",
       "  --sklearn-color-unfitted-level-3: chocolate;\n",
       "  /* Definition of color scheme for fitted estimators */\n",
       "  --sklearn-color-fitted-level-0: #f0f8ff;\n",
       "  --sklearn-color-fitted-level-1: #d4ebff;\n",
       "  --sklearn-color-fitted-level-2: #b3dbfd;\n",
       "  --sklearn-color-fitted-level-3: cornflowerblue;\n",
       "\n",
       "  /* Specific color for light theme */\n",
       "  --sklearn-color-text-on-default-background: var(--sg-text-color, var(--theme-code-foreground, var(--jp-content-font-color1, black)));\n",
       "  --sklearn-color-background: var(--sg-background-color, var(--theme-background, var(--jp-layout-color0, white)));\n",
       "  --sklearn-color-border-box: var(--sg-text-color, var(--theme-code-foreground, var(--jp-content-font-color1, black)));\n",
       "  --sklearn-color-icon: #696969;\n",
       "\n",
       "  @media (prefers-color-scheme: dark) {\n",
       "    /* Redefinition of color scheme for dark theme */\n",
       "    --sklearn-color-text-on-default-background: var(--sg-text-color, var(--theme-code-foreground, var(--jp-content-font-color1, white)));\n",
       "    --sklearn-color-background: var(--sg-background-color, var(--theme-background, var(--jp-layout-color0, #111)));\n",
       "    --sklearn-color-border-box: var(--sg-text-color, var(--theme-code-foreground, var(--jp-content-font-color1, white)));\n",
       "    --sklearn-color-icon: #878787;\n",
       "  }\n",
       "}\n",
       "\n",
       "#sk-container-id-1 {\n",
       "  color: var(--sklearn-color-text);\n",
       "}\n",
       "\n",
       "#sk-container-id-1 pre {\n",
       "  padding: 0;\n",
       "}\n",
       "\n",
       "#sk-container-id-1 input.sk-hidden--visually {\n",
       "  border: 0;\n",
       "  clip: rect(1px 1px 1px 1px);\n",
       "  clip: rect(1px, 1px, 1px, 1px);\n",
       "  height: 1px;\n",
       "  margin: -1px;\n",
       "  overflow: hidden;\n",
       "  padding: 0;\n",
       "  position: absolute;\n",
       "  width: 1px;\n",
       "}\n",
       "\n",
       "#sk-container-id-1 div.sk-dashed-wrapped {\n",
       "  border: 1px dashed var(--sklearn-color-line);\n",
       "  margin: 0 0.4em 0.5em 0.4em;\n",
       "  box-sizing: border-box;\n",
       "  padding-bottom: 0.4em;\n",
       "  background-color: var(--sklearn-color-background);\n",
       "}\n",
       "\n",
       "#sk-container-id-1 div.sk-container {\n",
       "  /* jupyter's `normalize.less` sets `[hidden] { display: none; }`\n",
       "     but bootstrap.min.css set `[hidden] { display: none !important; }`\n",
       "     so we also need the `!important` here to be able to override the\n",
       "     default hidden behavior on the sphinx rendered scikit-learn.org.\n",
       "     See: https://github.com/scikit-learn/scikit-learn/issues/21755 */\n",
       "  display: inline-block !important;\n",
       "  position: relative;\n",
       "}\n",
       "\n",
       "#sk-container-id-1 div.sk-text-repr-fallback {\n",
       "  display: none;\n",
       "}\n",
       "\n",
       "div.sk-parallel-item,\n",
       "div.sk-serial,\n",
       "div.sk-item {\n",
       "  /* draw centered vertical line to link estimators */\n",
       "  background-image: linear-gradient(var(--sklearn-color-text-on-default-background), var(--sklearn-color-text-on-default-background));\n",
       "  background-size: 2px 100%;\n",
       "  background-repeat: no-repeat;\n",
       "  background-position: center center;\n",
       "}\n",
       "\n",
       "/* Parallel-specific style estimator block */\n",
       "\n",
       "#sk-container-id-1 div.sk-parallel-item::after {\n",
       "  content: \"\";\n",
       "  width: 100%;\n",
       "  border-bottom: 2px solid var(--sklearn-color-text-on-default-background);\n",
       "  flex-grow: 1;\n",
       "}\n",
       "\n",
       "#sk-container-id-1 div.sk-parallel {\n",
       "  display: flex;\n",
       "  align-items: stretch;\n",
       "  justify-content: center;\n",
       "  background-color: var(--sklearn-color-background);\n",
       "  position: relative;\n",
       "}\n",
       "\n",
       "#sk-container-id-1 div.sk-parallel-item {\n",
       "  display: flex;\n",
       "  flex-direction: column;\n",
       "}\n",
       "\n",
       "#sk-container-id-1 div.sk-parallel-item:first-child::after {\n",
       "  align-self: flex-end;\n",
       "  width: 50%;\n",
       "}\n",
       "\n",
       "#sk-container-id-1 div.sk-parallel-item:last-child::after {\n",
       "  align-self: flex-start;\n",
       "  width: 50%;\n",
       "}\n",
       "\n",
       "#sk-container-id-1 div.sk-parallel-item:only-child::after {\n",
       "  width: 0;\n",
       "}\n",
       "\n",
       "/* Serial-specific style estimator block */\n",
       "\n",
       "#sk-container-id-1 div.sk-serial {\n",
       "  display: flex;\n",
       "  flex-direction: column;\n",
       "  align-items: center;\n",
       "  background-color: var(--sklearn-color-background);\n",
       "  padding-right: 1em;\n",
       "  padding-left: 1em;\n",
       "}\n",
       "\n",
       "\n",
       "/* Toggleable style: style used for estimator/Pipeline/ColumnTransformer box that is\n",
       "clickable and can be expanded/collapsed.\n",
       "- Pipeline and ColumnTransformer use this feature and define the default style\n",
       "- Estimators will overwrite some part of the style using the `sk-estimator` class\n",
       "*/\n",
       "\n",
       "/* Pipeline and ColumnTransformer style (default) */\n",
       "\n",
       "#sk-container-id-1 div.sk-toggleable {\n",
       "  /* Default theme specific background. It is overwritten whether we have a\n",
       "  specific estimator or a Pipeline/ColumnTransformer */\n",
       "  background-color: var(--sklearn-color-background);\n",
       "}\n",
       "\n",
       "/* Toggleable label */\n",
       "#sk-container-id-1 label.sk-toggleable__label {\n",
       "  cursor: pointer;\n",
       "  display: flex;\n",
       "  width: 100%;\n",
       "  margin-bottom: 0;\n",
       "  padding: 0.5em;\n",
       "  box-sizing: border-box;\n",
       "  text-align: center;\n",
       "  align-items: start;\n",
       "  justify-content: space-between;\n",
       "  gap: 0.5em;\n",
       "}\n",
       "\n",
       "#sk-container-id-1 label.sk-toggleable__label .caption {\n",
       "  font-size: 0.6rem;\n",
       "  font-weight: lighter;\n",
       "  color: var(--sklearn-color-text-muted);\n",
       "}\n",
       "\n",
       "#sk-container-id-1 label.sk-toggleable__label-arrow:before {\n",
       "  /* Arrow on the left of the label */\n",
       "  content: \"▸\";\n",
       "  float: left;\n",
       "  margin-right: 0.25em;\n",
       "  color: var(--sklearn-color-icon);\n",
       "}\n",
       "\n",
       "#sk-container-id-1 label.sk-toggleable__label-arrow:hover:before {\n",
       "  color: var(--sklearn-color-text);\n",
       "}\n",
       "\n",
       "/* Toggleable content - dropdown */\n",
       "\n",
       "#sk-container-id-1 div.sk-toggleable__content {\n",
       "  max-height: 0;\n",
       "  max-width: 0;\n",
       "  overflow: hidden;\n",
       "  text-align: left;\n",
       "  /* unfitted */\n",
       "  background-color: var(--sklearn-color-unfitted-level-0);\n",
       "}\n",
       "\n",
       "#sk-container-id-1 div.sk-toggleable__content.fitted {\n",
       "  /* fitted */\n",
       "  background-color: var(--sklearn-color-fitted-level-0);\n",
       "}\n",
       "\n",
       "#sk-container-id-1 div.sk-toggleable__content pre {\n",
       "  margin: 0.2em;\n",
       "  border-radius: 0.25em;\n",
       "  color: var(--sklearn-color-text);\n",
       "  /* unfitted */\n",
       "  background-color: var(--sklearn-color-unfitted-level-0);\n",
       "}\n",
       "\n",
       "#sk-container-id-1 div.sk-toggleable__content.fitted pre {\n",
       "  /* unfitted */\n",
       "  background-color: var(--sklearn-color-fitted-level-0);\n",
       "}\n",
       "\n",
       "#sk-container-id-1 input.sk-toggleable__control:checked~div.sk-toggleable__content {\n",
       "  /* Expand drop-down */\n",
       "  max-height: 200px;\n",
       "  max-width: 100%;\n",
       "  overflow: auto;\n",
       "}\n",
       "\n",
       "#sk-container-id-1 input.sk-toggleable__control:checked~label.sk-toggleable__label-arrow:before {\n",
       "  content: \"▾\";\n",
       "}\n",
       "\n",
       "/* Pipeline/ColumnTransformer-specific style */\n",
       "\n",
       "#sk-container-id-1 div.sk-label input.sk-toggleable__control:checked~label.sk-toggleable__label {\n",
       "  color: var(--sklearn-color-text);\n",
       "  background-color: var(--sklearn-color-unfitted-level-2);\n",
       "}\n",
       "\n",
       "#sk-container-id-1 div.sk-label.fitted input.sk-toggleable__control:checked~label.sk-toggleable__label {\n",
       "  background-color: var(--sklearn-color-fitted-level-2);\n",
       "}\n",
       "\n",
       "/* Estimator-specific style */\n",
       "\n",
       "/* Colorize estimator box */\n",
       "#sk-container-id-1 div.sk-estimator input.sk-toggleable__control:checked~label.sk-toggleable__label {\n",
       "  /* unfitted */\n",
       "  background-color: var(--sklearn-color-unfitted-level-2);\n",
       "}\n",
       "\n",
       "#sk-container-id-1 div.sk-estimator.fitted input.sk-toggleable__control:checked~label.sk-toggleable__label {\n",
       "  /* fitted */\n",
       "  background-color: var(--sklearn-color-fitted-level-2);\n",
       "}\n",
       "\n",
       "#sk-container-id-1 div.sk-label label.sk-toggleable__label,\n",
       "#sk-container-id-1 div.sk-label label {\n",
       "  /* The background is the default theme color */\n",
       "  color: var(--sklearn-color-text-on-default-background);\n",
       "}\n",
       "\n",
       "/* On hover, darken the color of the background */\n",
       "#sk-container-id-1 div.sk-label:hover label.sk-toggleable__label {\n",
       "  color: var(--sklearn-color-text);\n",
       "  background-color: var(--sklearn-color-unfitted-level-2);\n",
       "}\n",
       "\n",
       "/* Label box, darken color on hover, fitted */\n",
       "#sk-container-id-1 div.sk-label.fitted:hover label.sk-toggleable__label.fitted {\n",
       "  color: var(--sklearn-color-text);\n",
       "  background-color: var(--sklearn-color-fitted-level-2);\n",
       "}\n",
       "\n",
       "/* Estimator label */\n",
       "\n",
       "#sk-container-id-1 div.sk-label label {\n",
       "  font-family: monospace;\n",
       "  font-weight: bold;\n",
       "  display: inline-block;\n",
       "  line-height: 1.2em;\n",
       "}\n",
       "\n",
       "#sk-container-id-1 div.sk-label-container {\n",
       "  text-align: center;\n",
       "}\n",
       "\n",
       "/* Estimator-specific */\n",
       "#sk-container-id-1 div.sk-estimator {\n",
       "  font-family: monospace;\n",
       "  border: 1px dotted var(--sklearn-color-border-box);\n",
       "  border-radius: 0.25em;\n",
       "  box-sizing: border-box;\n",
       "  margin-bottom: 0.5em;\n",
       "  /* unfitted */\n",
       "  background-color: var(--sklearn-color-unfitted-level-0);\n",
       "}\n",
       "\n",
       "#sk-container-id-1 div.sk-estimator.fitted {\n",
       "  /* fitted */\n",
       "  background-color: var(--sklearn-color-fitted-level-0);\n",
       "}\n",
       "\n",
       "/* on hover */\n",
       "#sk-container-id-1 div.sk-estimator:hover {\n",
       "  /* unfitted */\n",
       "  background-color: var(--sklearn-color-unfitted-level-2);\n",
       "}\n",
       "\n",
       "#sk-container-id-1 div.sk-estimator.fitted:hover {\n",
       "  /* fitted */\n",
       "  background-color: var(--sklearn-color-fitted-level-2);\n",
       "}\n",
       "\n",
       "/* Specification for estimator info (e.g. \"i\" and \"?\") */\n",
       "\n",
       "/* Common style for \"i\" and \"?\" */\n",
       "\n",
       ".sk-estimator-doc-link,\n",
       "a:link.sk-estimator-doc-link,\n",
       "a:visited.sk-estimator-doc-link {\n",
       "  float: right;\n",
       "  font-size: smaller;\n",
       "  line-height: 1em;\n",
       "  font-family: monospace;\n",
       "  background-color: var(--sklearn-color-background);\n",
       "  border-radius: 1em;\n",
       "  height: 1em;\n",
       "  width: 1em;\n",
       "  text-decoration: none !important;\n",
       "  margin-left: 0.5em;\n",
       "  text-align: center;\n",
       "  /* unfitted */\n",
       "  border: var(--sklearn-color-unfitted-level-1) 1pt solid;\n",
       "  color: var(--sklearn-color-unfitted-level-1);\n",
       "}\n",
       "\n",
       ".sk-estimator-doc-link.fitted,\n",
       "a:link.sk-estimator-doc-link.fitted,\n",
       "a:visited.sk-estimator-doc-link.fitted {\n",
       "  /* fitted */\n",
       "  border: var(--sklearn-color-fitted-level-1) 1pt solid;\n",
       "  color: var(--sklearn-color-fitted-level-1);\n",
       "}\n",
       "\n",
       "/* On hover */\n",
       "div.sk-estimator:hover .sk-estimator-doc-link:hover,\n",
       ".sk-estimator-doc-link:hover,\n",
       "div.sk-label-container:hover .sk-estimator-doc-link:hover,\n",
       ".sk-estimator-doc-link:hover {\n",
       "  /* unfitted */\n",
       "  background-color: var(--sklearn-color-unfitted-level-3);\n",
       "  color: var(--sklearn-color-background);\n",
       "  text-decoration: none;\n",
       "}\n",
       "\n",
       "div.sk-estimator.fitted:hover .sk-estimator-doc-link.fitted:hover,\n",
       ".sk-estimator-doc-link.fitted:hover,\n",
       "div.sk-label-container:hover .sk-estimator-doc-link.fitted:hover,\n",
       ".sk-estimator-doc-link.fitted:hover {\n",
       "  /* fitted */\n",
       "  background-color: var(--sklearn-color-fitted-level-3);\n",
       "  color: var(--sklearn-color-background);\n",
       "  text-decoration: none;\n",
       "}\n",
       "\n",
       "/* Span, style for the box shown on hovering the info icon */\n",
       ".sk-estimator-doc-link span {\n",
       "  display: none;\n",
       "  z-index: 9999;\n",
       "  position: relative;\n",
       "  font-weight: normal;\n",
       "  right: .2ex;\n",
       "  padding: .5ex;\n",
       "  margin: .5ex;\n",
       "  width: min-content;\n",
       "  min-width: 20ex;\n",
       "  max-width: 50ex;\n",
       "  color: var(--sklearn-color-text);\n",
       "  box-shadow: 2pt 2pt 4pt #999;\n",
       "  /* unfitted */\n",
       "  background: var(--sklearn-color-unfitted-level-0);\n",
       "  border: .5pt solid var(--sklearn-color-unfitted-level-3);\n",
       "}\n",
       "\n",
       ".sk-estimator-doc-link.fitted span {\n",
       "  /* fitted */\n",
       "  background: var(--sklearn-color-fitted-level-0);\n",
       "  border: var(--sklearn-color-fitted-level-3);\n",
       "}\n",
       "\n",
       ".sk-estimator-doc-link:hover span {\n",
       "  display: block;\n",
       "}\n",
       "\n",
       "/* \"?\"-specific style due to the `<a>` HTML tag */\n",
       "\n",
       "#sk-container-id-1 a.estimator_doc_link {\n",
       "  float: right;\n",
       "  font-size: 1rem;\n",
       "  line-height: 1em;\n",
       "  font-family: monospace;\n",
       "  background-color: var(--sklearn-color-background);\n",
       "  border-radius: 1rem;\n",
       "  height: 1rem;\n",
       "  width: 1rem;\n",
       "  text-decoration: none;\n",
       "  /* unfitted */\n",
       "  color: var(--sklearn-color-unfitted-level-1);\n",
       "  border: var(--sklearn-color-unfitted-level-1) 1pt solid;\n",
       "}\n",
       "\n",
       "#sk-container-id-1 a.estimator_doc_link.fitted {\n",
       "  /* fitted */\n",
       "  border: var(--sklearn-color-fitted-level-1) 1pt solid;\n",
       "  color: var(--sklearn-color-fitted-level-1);\n",
       "}\n",
       "\n",
       "/* On hover */\n",
       "#sk-container-id-1 a.estimator_doc_link:hover {\n",
       "  /* unfitted */\n",
       "  background-color: var(--sklearn-color-unfitted-level-3);\n",
       "  color: var(--sklearn-color-background);\n",
       "  text-decoration: none;\n",
       "}\n",
       "\n",
       "#sk-container-id-1 a.estimator_doc_link.fitted:hover {\n",
       "  /* fitted */\n",
       "  background-color: var(--sklearn-color-fitted-level-3);\n",
       "}\n",
       "</style><div id=\"sk-container-id-1\" class=\"sk-top-container\"><div class=\"sk-text-repr-fallback\"><pre>KNeighborsClassifier(n_neighbors=10)</pre><b>In a Jupyter environment, please rerun this cell to show the HTML representation or trust the notebook. <br />On GitHub, the HTML representation is unable to render, please try loading this page with nbviewer.org.</b></div><div class=\"sk-container\" hidden><div class=\"sk-item\"><div class=\"sk-estimator fitted sk-toggleable\"><input class=\"sk-toggleable__control sk-hidden--visually\" id=\"sk-estimator-id-1\" type=\"checkbox\" checked><label for=\"sk-estimator-id-1\" class=\"sk-toggleable__label fitted sk-toggleable__label-arrow\"><div><div>KNeighborsClassifier</div></div><div><a class=\"sk-estimator-doc-link fitted\" rel=\"noreferrer\" target=\"_blank\" href=\"https://scikit-learn.org/1.6/modules/generated/sklearn.neighbors.KNeighborsClassifier.html\">?<span>Documentation for KNeighborsClassifier</span></a><span class=\"sk-estimator-doc-link fitted\">i<span>Fitted</span></span></div></label><div class=\"sk-toggleable__content fitted\"><pre>KNeighborsClassifier(n_neighbors=10)</pre></div> </div></div></div></div>"
      ],
      "text/plain": [
       "KNeighborsClassifier(n_neighbors=10)"
      ]
     },
     "execution_count": 7,
     "metadata": {},
     "output_type": "execute_result"
    }
   ],
   "source": [
    "neigh = KNeighborsClassifier(n_neighbors=10)\n",
    "\n",
    "X_train = train.drop(['class'], axis=1).values # values\n",
    "y_train = train['class'].values # labels\n",
    "\n",
    "neigh.fit(X_train, y_train)"
   ]
  },
  {
   "cell_type": "markdown",
   "id": "2ce7a2d0",
   "metadata": {},
   "source": [
    "### Another Example with a Decision Tree"
   ]
  },
  {
   "cell_type": "code",
   "execution_count": 9,
   "id": "95c0e323",
   "metadata": {},
   "outputs": [
    {
     "data": {
      "text/html": [
       "<style>#sk-container-id-2 {\n",
       "  /* Definition of color scheme common for light and dark mode */\n",
       "  --sklearn-color-text: #000;\n",
       "  --sklearn-color-text-muted: #666;\n",
       "  --sklearn-color-line: gray;\n",
       "  /* Definition of color scheme for unfitted estimators */\n",
       "  --sklearn-color-unfitted-level-0: #fff5e6;\n",
       "  --sklearn-color-unfitted-level-1: #f6e4d2;\n",
       "  --sklearn-color-unfitted-level-2: #ffe0b3;\n",
       "  --sklearn-color-unfitted-level-3: chocolate;\n",
       "  /* Definition of color scheme for fitted estimators */\n",
       "  --sklearn-color-fitted-level-0: #f0f8ff;\n",
       "  --sklearn-color-fitted-level-1: #d4ebff;\n",
       "  --sklearn-color-fitted-level-2: #b3dbfd;\n",
       "  --sklearn-color-fitted-level-3: cornflowerblue;\n",
       "\n",
       "  /* Specific color for light theme */\n",
       "  --sklearn-color-text-on-default-background: var(--sg-text-color, var(--theme-code-foreground, var(--jp-content-font-color1, black)));\n",
       "  --sklearn-color-background: var(--sg-background-color, var(--theme-background, var(--jp-layout-color0, white)));\n",
       "  --sklearn-color-border-box: var(--sg-text-color, var(--theme-code-foreground, var(--jp-content-font-color1, black)));\n",
       "  --sklearn-color-icon: #696969;\n",
       "\n",
       "  @media (prefers-color-scheme: dark) {\n",
       "    /* Redefinition of color scheme for dark theme */\n",
       "    --sklearn-color-text-on-default-background: var(--sg-text-color, var(--theme-code-foreground, var(--jp-content-font-color1, white)));\n",
       "    --sklearn-color-background: var(--sg-background-color, var(--theme-background, var(--jp-layout-color0, #111)));\n",
       "    --sklearn-color-border-box: var(--sg-text-color, var(--theme-code-foreground, var(--jp-content-font-color1, white)));\n",
       "    --sklearn-color-icon: #878787;\n",
       "  }\n",
       "}\n",
       "\n",
       "#sk-container-id-2 {\n",
       "  color: var(--sklearn-color-text);\n",
       "}\n",
       "\n",
       "#sk-container-id-2 pre {\n",
       "  padding: 0;\n",
       "}\n",
       "\n",
       "#sk-container-id-2 input.sk-hidden--visually {\n",
       "  border: 0;\n",
       "  clip: rect(1px 1px 1px 1px);\n",
       "  clip: rect(1px, 1px, 1px, 1px);\n",
       "  height: 1px;\n",
       "  margin: -1px;\n",
       "  overflow: hidden;\n",
       "  padding: 0;\n",
       "  position: absolute;\n",
       "  width: 1px;\n",
       "}\n",
       "\n",
       "#sk-container-id-2 div.sk-dashed-wrapped {\n",
       "  border: 1px dashed var(--sklearn-color-line);\n",
       "  margin: 0 0.4em 0.5em 0.4em;\n",
       "  box-sizing: border-box;\n",
       "  padding-bottom: 0.4em;\n",
       "  background-color: var(--sklearn-color-background);\n",
       "}\n",
       "\n",
       "#sk-container-id-2 div.sk-container {\n",
       "  /* jupyter's `normalize.less` sets `[hidden] { display: none; }`\n",
       "     but bootstrap.min.css set `[hidden] { display: none !important; }`\n",
       "     so we also need the `!important` here to be able to override the\n",
       "     default hidden behavior on the sphinx rendered scikit-learn.org.\n",
       "     See: https://github.com/scikit-learn/scikit-learn/issues/21755 */\n",
       "  display: inline-block !important;\n",
       "  position: relative;\n",
       "}\n",
       "\n",
       "#sk-container-id-2 div.sk-text-repr-fallback {\n",
       "  display: none;\n",
       "}\n",
       "\n",
       "div.sk-parallel-item,\n",
       "div.sk-serial,\n",
       "div.sk-item {\n",
       "  /* draw centered vertical line to link estimators */\n",
       "  background-image: linear-gradient(var(--sklearn-color-text-on-default-background), var(--sklearn-color-text-on-default-background));\n",
       "  background-size: 2px 100%;\n",
       "  background-repeat: no-repeat;\n",
       "  background-position: center center;\n",
       "}\n",
       "\n",
       "/* Parallel-specific style estimator block */\n",
       "\n",
       "#sk-container-id-2 div.sk-parallel-item::after {\n",
       "  content: \"\";\n",
       "  width: 100%;\n",
       "  border-bottom: 2px solid var(--sklearn-color-text-on-default-background);\n",
       "  flex-grow: 1;\n",
       "}\n",
       "\n",
       "#sk-container-id-2 div.sk-parallel {\n",
       "  display: flex;\n",
       "  align-items: stretch;\n",
       "  justify-content: center;\n",
       "  background-color: var(--sklearn-color-background);\n",
       "  position: relative;\n",
       "}\n",
       "\n",
       "#sk-container-id-2 div.sk-parallel-item {\n",
       "  display: flex;\n",
       "  flex-direction: column;\n",
       "}\n",
       "\n",
       "#sk-container-id-2 div.sk-parallel-item:first-child::after {\n",
       "  align-self: flex-end;\n",
       "  width: 50%;\n",
       "}\n",
       "\n",
       "#sk-container-id-2 div.sk-parallel-item:last-child::after {\n",
       "  align-self: flex-start;\n",
       "  width: 50%;\n",
       "}\n",
       "\n",
       "#sk-container-id-2 div.sk-parallel-item:only-child::after {\n",
       "  width: 0;\n",
       "}\n",
       "\n",
       "/* Serial-specific style estimator block */\n",
       "\n",
       "#sk-container-id-2 div.sk-serial {\n",
       "  display: flex;\n",
       "  flex-direction: column;\n",
       "  align-items: center;\n",
       "  background-color: var(--sklearn-color-background);\n",
       "  padding-right: 1em;\n",
       "  padding-left: 1em;\n",
       "}\n",
       "\n",
       "\n",
       "/* Toggleable style: style used for estimator/Pipeline/ColumnTransformer box that is\n",
       "clickable and can be expanded/collapsed.\n",
       "- Pipeline and ColumnTransformer use this feature and define the default style\n",
       "- Estimators will overwrite some part of the style using the `sk-estimator` class\n",
       "*/\n",
       "\n",
       "/* Pipeline and ColumnTransformer style (default) */\n",
       "\n",
       "#sk-container-id-2 div.sk-toggleable {\n",
       "  /* Default theme specific background. It is overwritten whether we have a\n",
       "  specific estimator or a Pipeline/ColumnTransformer */\n",
       "  background-color: var(--sklearn-color-background);\n",
       "}\n",
       "\n",
       "/* Toggleable label */\n",
       "#sk-container-id-2 label.sk-toggleable__label {\n",
       "  cursor: pointer;\n",
       "  display: flex;\n",
       "  width: 100%;\n",
       "  margin-bottom: 0;\n",
       "  padding: 0.5em;\n",
       "  box-sizing: border-box;\n",
       "  text-align: center;\n",
       "  align-items: start;\n",
       "  justify-content: space-between;\n",
       "  gap: 0.5em;\n",
       "}\n",
       "\n",
       "#sk-container-id-2 label.sk-toggleable__label .caption {\n",
       "  font-size: 0.6rem;\n",
       "  font-weight: lighter;\n",
       "  color: var(--sklearn-color-text-muted);\n",
       "}\n",
       "\n",
       "#sk-container-id-2 label.sk-toggleable__label-arrow:before {\n",
       "  /* Arrow on the left of the label */\n",
       "  content: \"▸\";\n",
       "  float: left;\n",
       "  margin-right: 0.25em;\n",
       "  color: var(--sklearn-color-icon);\n",
       "}\n",
       "\n",
       "#sk-container-id-2 label.sk-toggleable__label-arrow:hover:before {\n",
       "  color: var(--sklearn-color-text);\n",
       "}\n",
       "\n",
       "/* Toggleable content - dropdown */\n",
       "\n",
       "#sk-container-id-2 div.sk-toggleable__content {\n",
       "  max-height: 0;\n",
       "  max-width: 0;\n",
       "  overflow: hidden;\n",
       "  text-align: left;\n",
       "  /* unfitted */\n",
       "  background-color: var(--sklearn-color-unfitted-level-0);\n",
       "}\n",
       "\n",
       "#sk-container-id-2 div.sk-toggleable__content.fitted {\n",
       "  /* fitted */\n",
       "  background-color: var(--sklearn-color-fitted-level-0);\n",
       "}\n",
       "\n",
       "#sk-container-id-2 div.sk-toggleable__content pre {\n",
       "  margin: 0.2em;\n",
       "  border-radius: 0.25em;\n",
       "  color: var(--sklearn-color-text);\n",
       "  /* unfitted */\n",
       "  background-color: var(--sklearn-color-unfitted-level-0);\n",
       "}\n",
       "\n",
       "#sk-container-id-2 div.sk-toggleable__content.fitted pre {\n",
       "  /* unfitted */\n",
       "  background-color: var(--sklearn-color-fitted-level-0);\n",
       "}\n",
       "\n",
       "#sk-container-id-2 input.sk-toggleable__control:checked~div.sk-toggleable__content {\n",
       "  /* Expand drop-down */\n",
       "  max-height: 200px;\n",
       "  max-width: 100%;\n",
       "  overflow: auto;\n",
       "}\n",
       "\n",
       "#sk-container-id-2 input.sk-toggleable__control:checked~label.sk-toggleable__label-arrow:before {\n",
       "  content: \"▾\";\n",
       "}\n",
       "\n",
       "/* Pipeline/ColumnTransformer-specific style */\n",
       "\n",
       "#sk-container-id-2 div.sk-label input.sk-toggleable__control:checked~label.sk-toggleable__label {\n",
       "  color: var(--sklearn-color-text);\n",
       "  background-color: var(--sklearn-color-unfitted-level-2);\n",
       "}\n",
       "\n",
       "#sk-container-id-2 div.sk-label.fitted input.sk-toggleable__control:checked~label.sk-toggleable__label {\n",
       "  background-color: var(--sklearn-color-fitted-level-2);\n",
       "}\n",
       "\n",
       "/* Estimator-specific style */\n",
       "\n",
       "/* Colorize estimator box */\n",
       "#sk-container-id-2 div.sk-estimator input.sk-toggleable__control:checked~label.sk-toggleable__label {\n",
       "  /* unfitted */\n",
       "  background-color: var(--sklearn-color-unfitted-level-2);\n",
       "}\n",
       "\n",
       "#sk-container-id-2 div.sk-estimator.fitted input.sk-toggleable__control:checked~label.sk-toggleable__label {\n",
       "  /* fitted */\n",
       "  background-color: var(--sklearn-color-fitted-level-2);\n",
       "}\n",
       "\n",
       "#sk-container-id-2 div.sk-label label.sk-toggleable__label,\n",
       "#sk-container-id-2 div.sk-label label {\n",
       "  /* The background is the default theme color */\n",
       "  color: var(--sklearn-color-text-on-default-background);\n",
       "}\n",
       "\n",
       "/* On hover, darken the color of the background */\n",
       "#sk-container-id-2 div.sk-label:hover label.sk-toggleable__label {\n",
       "  color: var(--sklearn-color-text);\n",
       "  background-color: var(--sklearn-color-unfitted-level-2);\n",
       "}\n",
       "\n",
       "/* Label box, darken color on hover, fitted */\n",
       "#sk-container-id-2 div.sk-label.fitted:hover label.sk-toggleable__label.fitted {\n",
       "  color: var(--sklearn-color-text);\n",
       "  background-color: var(--sklearn-color-fitted-level-2);\n",
       "}\n",
       "\n",
       "/* Estimator label */\n",
       "\n",
       "#sk-container-id-2 div.sk-label label {\n",
       "  font-family: monospace;\n",
       "  font-weight: bold;\n",
       "  display: inline-block;\n",
       "  line-height: 1.2em;\n",
       "}\n",
       "\n",
       "#sk-container-id-2 div.sk-label-container {\n",
       "  text-align: center;\n",
       "}\n",
       "\n",
       "/* Estimator-specific */\n",
       "#sk-container-id-2 div.sk-estimator {\n",
       "  font-family: monospace;\n",
       "  border: 1px dotted var(--sklearn-color-border-box);\n",
       "  border-radius: 0.25em;\n",
       "  box-sizing: border-box;\n",
       "  margin-bottom: 0.5em;\n",
       "  /* unfitted */\n",
       "  background-color: var(--sklearn-color-unfitted-level-0);\n",
       "}\n",
       "\n",
       "#sk-container-id-2 div.sk-estimator.fitted {\n",
       "  /* fitted */\n",
       "  background-color: var(--sklearn-color-fitted-level-0);\n",
       "}\n",
       "\n",
       "/* on hover */\n",
       "#sk-container-id-2 div.sk-estimator:hover {\n",
       "  /* unfitted */\n",
       "  background-color: var(--sklearn-color-unfitted-level-2);\n",
       "}\n",
       "\n",
       "#sk-container-id-2 div.sk-estimator.fitted:hover {\n",
       "  /* fitted */\n",
       "  background-color: var(--sklearn-color-fitted-level-2);\n",
       "}\n",
       "\n",
       "/* Specification for estimator info (e.g. \"i\" and \"?\") */\n",
       "\n",
       "/* Common style for \"i\" and \"?\" */\n",
       "\n",
       ".sk-estimator-doc-link,\n",
       "a:link.sk-estimator-doc-link,\n",
       "a:visited.sk-estimator-doc-link {\n",
       "  float: right;\n",
       "  font-size: smaller;\n",
       "  line-height: 1em;\n",
       "  font-family: monospace;\n",
       "  background-color: var(--sklearn-color-background);\n",
       "  border-radius: 1em;\n",
       "  height: 1em;\n",
       "  width: 1em;\n",
       "  text-decoration: none !important;\n",
       "  margin-left: 0.5em;\n",
       "  text-align: center;\n",
       "  /* unfitted */\n",
       "  border: var(--sklearn-color-unfitted-level-1) 1pt solid;\n",
       "  color: var(--sklearn-color-unfitted-level-1);\n",
       "}\n",
       "\n",
       ".sk-estimator-doc-link.fitted,\n",
       "a:link.sk-estimator-doc-link.fitted,\n",
       "a:visited.sk-estimator-doc-link.fitted {\n",
       "  /* fitted */\n",
       "  border: var(--sklearn-color-fitted-level-1) 1pt solid;\n",
       "  color: var(--sklearn-color-fitted-level-1);\n",
       "}\n",
       "\n",
       "/* On hover */\n",
       "div.sk-estimator:hover .sk-estimator-doc-link:hover,\n",
       ".sk-estimator-doc-link:hover,\n",
       "div.sk-label-container:hover .sk-estimator-doc-link:hover,\n",
       ".sk-estimator-doc-link:hover {\n",
       "  /* unfitted */\n",
       "  background-color: var(--sklearn-color-unfitted-level-3);\n",
       "  color: var(--sklearn-color-background);\n",
       "  text-decoration: none;\n",
       "}\n",
       "\n",
       "div.sk-estimator.fitted:hover .sk-estimator-doc-link.fitted:hover,\n",
       ".sk-estimator-doc-link.fitted:hover,\n",
       "div.sk-label-container:hover .sk-estimator-doc-link.fitted:hover,\n",
       ".sk-estimator-doc-link.fitted:hover {\n",
       "  /* fitted */\n",
       "  background-color: var(--sklearn-color-fitted-level-3);\n",
       "  color: var(--sklearn-color-background);\n",
       "  text-decoration: none;\n",
       "}\n",
       "\n",
       "/* Span, style for the box shown on hovering the info icon */\n",
       ".sk-estimator-doc-link span {\n",
       "  display: none;\n",
       "  z-index: 9999;\n",
       "  position: relative;\n",
       "  font-weight: normal;\n",
       "  right: .2ex;\n",
       "  padding: .5ex;\n",
       "  margin: .5ex;\n",
       "  width: min-content;\n",
       "  min-width: 20ex;\n",
       "  max-width: 50ex;\n",
       "  color: var(--sklearn-color-text);\n",
       "  box-shadow: 2pt 2pt 4pt #999;\n",
       "  /* unfitted */\n",
       "  background: var(--sklearn-color-unfitted-level-0);\n",
       "  border: .5pt solid var(--sklearn-color-unfitted-level-3);\n",
       "}\n",
       "\n",
       ".sk-estimator-doc-link.fitted span {\n",
       "  /* fitted */\n",
       "  background: var(--sklearn-color-fitted-level-0);\n",
       "  border: var(--sklearn-color-fitted-level-3);\n",
       "}\n",
       "\n",
       ".sk-estimator-doc-link:hover span {\n",
       "  display: block;\n",
       "}\n",
       "\n",
       "/* \"?\"-specific style due to the `<a>` HTML tag */\n",
       "\n",
       "#sk-container-id-2 a.estimator_doc_link {\n",
       "  float: right;\n",
       "  font-size: 1rem;\n",
       "  line-height: 1em;\n",
       "  font-family: monospace;\n",
       "  background-color: var(--sklearn-color-background);\n",
       "  border-radius: 1rem;\n",
       "  height: 1rem;\n",
       "  width: 1rem;\n",
       "  text-decoration: none;\n",
       "  /* unfitted */\n",
       "  color: var(--sklearn-color-unfitted-level-1);\n",
       "  border: var(--sklearn-color-unfitted-level-1) 1pt solid;\n",
       "}\n",
       "\n",
       "#sk-container-id-2 a.estimator_doc_link.fitted {\n",
       "  /* fitted */\n",
       "  border: var(--sklearn-color-fitted-level-1) 1pt solid;\n",
       "  color: var(--sklearn-color-fitted-level-1);\n",
       "}\n",
       "\n",
       "/* On hover */\n",
       "#sk-container-id-2 a.estimator_doc_link:hover {\n",
       "  /* unfitted */\n",
       "  background-color: var(--sklearn-color-unfitted-level-3);\n",
       "  color: var(--sklearn-color-background);\n",
       "  text-decoration: none;\n",
       "}\n",
       "\n",
       "#sk-container-id-2 a.estimator_doc_link.fitted:hover {\n",
       "  /* fitted */\n",
       "  background-color: var(--sklearn-color-fitted-level-3);\n",
       "}\n",
       "</style><div id=\"sk-container-id-2\" class=\"sk-top-container\"><div class=\"sk-text-repr-fallback\"><pre>DecisionTreeClassifier(random_state=0)</pre><b>In a Jupyter environment, please rerun this cell to show the HTML representation or trust the notebook. <br />On GitHub, the HTML representation is unable to render, please try loading this page with nbviewer.org.</b></div><div class=\"sk-container\" hidden><div class=\"sk-item\"><div class=\"sk-estimator fitted sk-toggleable\"><input class=\"sk-toggleable__control sk-hidden--visually\" id=\"sk-estimator-id-2\" type=\"checkbox\" checked><label for=\"sk-estimator-id-2\" class=\"sk-toggleable__label fitted sk-toggleable__label-arrow\"><div><div>DecisionTreeClassifier</div></div><div><a class=\"sk-estimator-doc-link fitted\" rel=\"noreferrer\" target=\"_blank\" href=\"https://scikit-learn.org/1.6/modules/generated/sklearn.tree.DecisionTreeClassifier.html\">?<span>Documentation for DecisionTreeClassifier</span></a><span class=\"sk-estimator-doc-link fitted\">i<span>Fitted</span></span></div></label><div class=\"sk-toggleable__content fitted\"><pre>DecisionTreeClassifier(random_state=0)</pre></div> </div></div></div></div>"
      ],
      "text/plain": [
       "DecisionTreeClassifier(random_state=0)"
      ]
     },
     "execution_count": 9,
     "metadata": {},
     "output_type": "execute_result"
    }
   ],
   "source": [
    "# train a decision tree model\n",
    "from sklearn.tree import DecisionTreeClassifier\n",
    "clf = DecisionTreeClassifier(random_state=0)\n",
    "clf.fit(X_train, y_train)\n"
   ]
  },
  {
   "cell_type": "code",
   "execution_count": 10,
   "id": "bb42ea0d",
   "metadata": {},
   "outputs": [
    {
     "name": "stdout",
     "output_type": "stream",
     "text": [
      "Predicted label Versicolor = 14\n",
      "Predicted label Virginica = 16\n",
      "Predicted label Setosa = 15\n"
     ]
    }
   ],
   "source": [
    "X_test = test.drop(['class'], axis=1).values\n",
    "y_test = test['class'].values\n",
    "\n",
    "dt = clf.predict(X_test)\n",
    "\n",
    "print(\"Predicted label Versicolor =\",(dt == 'Iris-versicolor').sum())\n",
    "print(\"Predicted label Virginica =\", (dt == 'Iris-virginica').sum())\n",
    "print(\"Predicted label Setosa =\", (dt == 'Iris-setosa').sum())"
   ]
  },
  {
   "cell_type": "code",
   "execution_count": 11,
   "id": "ac83702e-308f-4208-b3d0-c0dded80f479",
   "metadata": {},
   "outputs": [
    {
     "name": "stdout",
     "output_type": "stream",
     "text": [
      "True Label Versicolor = 15\n",
      "True Label Virginica = 15\n",
      "True Label Setosa = 15\n"
     ]
    }
   ],
   "source": [
    "print(\"True Label Versicolor =\",(y_test == 'Iris-versicolor').sum())\n",
    "print(\"True Label Virginica =\", (y_test == 'Iris-virginica').sum())\n",
    "print(\"True Label Setosa =\", (y_test == 'Iris-setosa').sum())"
   ]
  },
  {
   "cell_type": "code",
   "execution_count": 19,
   "id": "899b4aa0",
   "metadata": {},
   "outputs": [
    {
     "data": {
      "text/plain": [
       "array([[14,  1,  0],\n",
       "       [ 0, 15,  0],\n",
       "       [ 0,  0, 15]])"
      ]
     },
     "execution_count": 19,
     "metadata": {},
     "output_type": "execute_result"
    }
   ],
   "source": [
    "import sklearn\n",
    "\n",
    "sklearn.metrics.confusion_matrix(y_test, dt,labels=['Iris-versicolor','Iris-virginica','Iris-setosa'], \n",
    "                                 sample_weight=None, normalize=None)"
   ]
  },
  {
   "cell_type": "code",
   "execution_count": 18,
   "id": "088caca6",
   "metadata": {},
   "outputs": [
    {
     "data": {
      "image/png": "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",
      "text/plain": [
       "<Figure size 640x480 with 2 Axes>"
      ]
     },
     "metadata": {},
     "output_type": "display_data"
    }
   ],
   "source": [
    "import matplotlib.pyplot as plt\n",
    "#from sklearn.metrics import plot_confusion_matrix\n",
    "from sklearn.metrics import ConfusionMatrixDisplay\n",
    " \n",
    "color = 'white'\n",
    "#matrix = plot_confusion_matrix(neigh, X_test, y_test, cmap=plt.cm.Blues)\n",
    "matrix = ConfusionMatrixDisplay.from_estimator(neigh, X_test, y_test, cmap=plt.cm.Blues)\n",
    "matrix.ax_.set_title('Confusion Matrix', color=color)\n",
    "plt.xlabel('Predicted Label', color=color)\n",
    "plt.ylabel('True Label', color=color)\n",
    "plt.gcf().axes[0].tick_params(colors=color)\n",
    "plt.gcf().axes[1].tick_params(colors=color)\n",
    "plt.show()\n"
   ]
  },
  {
   "cell_type": "code",
   "execution_count": null,
   "id": "43f11980",
   "metadata": {},
   "outputs": [],
   "source": [
    "# print out decision tree\n",
    "from sklearn.tree import plot_tree\n",
    "plt.figure(figsize=(20,10))\n",
    "plot_tree(clf, filled=True, feature_names=train.columns)\n",
    "plt.show()\n"
   ]
  },
  {
   "cell_type": "markdown",
   "id": "bf5916de",
   "metadata": {},
   "source": [
    "### Patterns in data\n",
    "\n",
    "Look at the following tables: do you see any patterns? How could a classification model point these out?"
   ]
  },
  {
   "cell_type": "code",
   "execution_count": 14,
   "id": "6733f899",
   "metadata": {
    "collapsed": true,
    "jupyter": {
     "outputs_hidden": true
    },
    "tags": []
   },
   "outputs": [
    {
     "data": {
      "text/html": [
       "<div>\n",
       "<style scoped>\n",
       "    .dataframe tbody tr th:only-of-type {\n",
       "        vertical-align: middle;\n",
       "    }\n",
       "\n",
       "    .dataframe tbody tr th {\n",
       "        vertical-align: top;\n",
       "    }\n",
       "\n",
       "    .dataframe thead th {\n",
       "        text-align: right;\n",
       "    }\n",
       "</style>\n",
       "<table border=\"1\" class=\"dataframe\">\n",
       "  <thead>\n",
       "    <tr style=\"text-align: right;\">\n",
       "      <th></th>\n",
       "      <th>count</th>\n",
       "      <th>mean</th>\n",
       "      <th>std</th>\n",
       "      <th>min</th>\n",
       "      <th>25%</th>\n",
       "      <th>50%</th>\n",
       "      <th>75%</th>\n",
       "      <th>max</th>\n",
       "    </tr>\n",
       "    <tr>\n",
       "      <th>class</th>\n",
       "      <th></th>\n",
       "      <th></th>\n",
       "      <th></th>\n",
       "      <th></th>\n",
       "      <th></th>\n",
       "      <th></th>\n",
       "      <th></th>\n",
       "      <th></th>\n",
       "    </tr>\n",
       "  </thead>\n",
       "  <tbody>\n",
       "    <tr>\n",
       "      <th>Iris-setosa</th>\n",
       "      <td>50.0</td>\n",
       "      <td>5.006</td>\n",
       "      <td>0.352490</td>\n",
       "      <td>4.3</td>\n",
       "      <td>4.800</td>\n",
       "      <td>5.0</td>\n",
       "      <td>5.2</td>\n",
       "      <td>5.8</td>\n",
       "    </tr>\n",
       "    <tr>\n",
       "      <th>Iris-versicolor</th>\n",
       "      <td>50.0</td>\n",
       "      <td>5.936</td>\n",
       "      <td>0.516171</td>\n",
       "      <td>4.9</td>\n",
       "      <td>5.600</td>\n",
       "      <td>5.9</td>\n",
       "      <td>6.3</td>\n",
       "      <td>7.0</td>\n",
       "    </tr>\n",
       "    <tr>\n",
       "      <th>Iris-virginica</th>\n",
       "      <td>50.0</td>\n",
       "      <td>6.588</td>\n",
       "      <td>0.635880</td>\n",
       "      <td>4.9</td>\n",
       "      <td>6.225</td>\n",
       "      <td>6.5</td>\n",
       "      <td>6.9</td>\n",
       "      <td>7.9</td>\n",
       "    </tr>\n",
       "  </tbody>\n",
       "</table>\n",
       "</div>"
      ],
      "text/plain": [
       "                 count   mean       std  min    25%  50%  75%  max\n",
       "class                                                             \n",
       "Iris-setosa       50.0  5.006  0.352490  4.3  4.800  5.0  5.2  5.8\n",
       "Iris-versicolor   50.0  5.936  0.516171  4.9  5.600  5.9  6.3  7.0\n",
       "Iris-virginica    50.0  6.588  0.635880  4.9  6.225  6.5  6.9  7.9"
      ]
     },
     "execution_count": 14,
     "metadata": {},
     "output_type": "execute_result"
    }
   ],
   "source": [
    "patterns = X.groupby(['class'])\n",
    "patterns['sepal length'].describe()"
   ]
  },
  {
   "cell_type": "code",
   "execution_count": 15,
   "id": "018e6f0e",
   "metadata": {
    "collapsed": true,
    "jupyter": {
     "outputs_hidden": true
    },
    "tags": []
   },
   "outputs": [
    {
     "data": {
      "text/html": [
       "<div>\n",
       "<style scoped>\n",
       "    .dataframe tbody tr th:only-of-type {\n",
       "        vertical-align: middle;\n",
       "    }\n",
       "\n",
       "    .dataframe tbody tr th {\n",
       "        vertical-align: top;\n",
       "    }\n",
       "\n",
       "    .dataframe thead th {\n",
       "        text-align: right;\n",
       "    }\n",
       "</style>\n",
       "<table border=\"1\" class=\"dataframe\">\n",
       "  <thead>\n",
       "    <tr style=\"text-align: right;\">\n",
       "      <th></th>\n",
       "      <th>count</th>\n",
       "      <th>mean</th>\n",
       "      <th>std</th>\n",
       "      <th>min</th>\n",
       "      <th>25%</th>\n",
       "      <th>50%</th>\n",
       "      <th>75%</th>\n",
       "      <th>max</th>\n",
       "    </tr>\n",
       "    <tr>\n",
       "      <th>class</th>\n",
       "      <th></th>\n",
       "      <th></th>\n",
       "      <th></th>\n",
       "      <th></th>\n",
       "      <th></th>\n",
       "      <th></th>\n",
       "      <th></th>\n",
       "      <th></th>\n",
       "    </tr>\n",
       "  </thead>\n",
       "  <tbody>\n",
       "    <tr>\n",
       "      <th>Iris-setosa</th>\n",
       "      <td>50.0</td>\n",
       "      <td>3.418</td>\n",
       "      <td>0.381024</td>\n",
       "      <td>2.3</td>\n",
       "      <td>3.125</td>\n",
       "      <td>3.4</td>\n",
       "      <td>3.675</td>\n",
       "      <td>4.4</td>\n",
       "    </tr>\n",
       "    <tr>\n",
       "      <th>Iris-versicolor</th>\n",
       "      <td>50.0</td>\n",
       "      <td>2.770</td>\n",
       "      <td>0.313798</td>\n",
       "      <td>2.0</td>\n",
       "      <td>2.525</td>\n",
       "      <td>2.8</td>\n",
       "      <td>3.000</td>\n",
       "      <td>3.4</td>\n",
       "    </tr>\n",
       "    <tr>\n",
       "      <th>Iris-virginica</th>\n",
       "      <td>50.0</td>\n",
       "      <td>2.974</td>\n",
       "      <td>0.322497</td>\n",
       "      <td>2.2</td>\n",
       "      <td>2.800</td>\n",
       "      <td>3.0</td>\n",
       "      <td>3.175</td>\n",
       "      <td>3.8</td>\n",
       "    </tr>\n",
       "  </tbody>\n",
       "</table>\n",
       "</div>"
      ],
      "text/plain": [
       "                 count   mean       std  min    25%  50%    75%  max\n",
       "class                                                               \n",
       "Iris-setosa       50.0  3.418  0.381024  2.3  3.125  3.4  3.675  4.4\n",
       "Iris-versicolor   50.0  2.770  0.313798  2.0  2.525  2.8  3.000  3.4\n",
       "Iris-virginica    50.0  2.974  0.322497  2.2  2.800  3.0  3.175  3.8"
      ]
     },
     "execution_count": 15,
     "metadata": {},
     "output_type": "execute_result"
    }
   ],
   "source": [
    "patterns['sepal width'].describe()"
   ]
  },
  {
   "cell_type": "code",
   "execution_count": 16,
   "id": "0ae34b8f",
   "metadata": {
    "collapsed": true,
    "jupyter": {
     "outputs_hidden": true
    },
    "tags": []
   },
   "outputs": [
    {
     "data": {
      "text/html": [
       "<div>\n",
       "<style scoped>\n",
       "    .dataframe tbody tr th:only-of-type {\n",
       "        vertical-align: middle;\n",
       "    }\n",
       "\n",
       "    .dataframe tbody tr th {\n",
       "        vertical-align: top;\n",
       "    }\n",
       "\n",
       "    .dataframe thead th {\n",
       "        text-align: right;\n",
       "    }\n",
       "</style>\n",
       "<table border=\"1\" class=\"dataframe\">\n",
       "  <thead>\n",
       "    <tr style=\"text-align: right;\">\n",
       "      <th></th>\n",
       "      <th>count</th>\n",
       "      <th>mean</th>\n",
       "      <th>std</th>\n",
       "      <th>min</th>\n",
       "      <th>25%</th>\n",
       "      <th>50%</th>\n",
       "      <th>75%</th>\n",
       "      <th>max</th>\n",
       "    </tr>\n",
       "    <tr>\n",
       "      <th>class</th>\n",
       "      <th></th>\n",
       "      <th></th>\n",
       "      <th></th>\n",
       "      <th></th>\n",
       "      <th></th>\n",
       "      <th></th>\n",
       "      <th></th>\n",
       "      <th></th>\n",
       "    </tr>\n",
       "  </thead>\n",
       "  <tbody>\n",
       "    <tr>\n",
       "      <th>Iris-setosa</th>\n",
       "      <td>50.0</td>\n",
       "      <td>1.464</td>\n",
       "      <td>0.173511</td>\n",
       "      <td>1.0</td>\n",
       "      <td>1.4</td>\n",
       "      <td>1.50</td>\n",
       "      <td>1.575</td>\n",
       "      <td>1.9</td>\n",
       "    </tr>\n",
       "    <tr>\n",
       "      <th>Iris-versicolor</th>\n",
       "      <td>50.0</td>\n",
       "      <td>4.260</td>\n",
       "      <td>0.469911</td>\n",
       "      <td>3.0</td>\n",
       "      <td>4.0</td>\n",
       "      <td>4.35</td>\n",
       "      <td>4.600</td>\n",
       "      <td>5.1</td>\n",
       "    </tr>\n",
       "    <tr>\n",
       "      <th>Iris-virginica</th>\n",
       "      <td>50.0</td>\n",
       "      <td>5.552</td>\n",
       "      <td>0.551895</td>\n",
       "      <td>4.5</td>\n",
       "      <td>5.1</td>\n",
       "      <td>5.55</td>\n",
       "      <td>5.875</td>\n",
       "      <td>6.9</td>\n",
       "    </tr>\n",
       "  </tbody>\n",
       "</table>\n",
       "</div>"
      ],
      "text/plain": [
       "                 count   mean       std  min  25%   50%    75%  max\n",
       "class                                                              \n",
       "Iris-setosa       50.0  1.464  0.173511  1.0  1.4  1.50  1.575  1.9\n",
       "Iris-versicolor   50.0  4.260  0.469911  3.0  4.0  4.35  4.600  5.1\n",
       "Iris-virginica    50.0  5.552  0.551895  4.5  5.1  5.55  5.875  6.9"
      ]
     },
     "execution_count": 16,
     "metadata": {},
     "output_type": "execute_result"
    }
   ],
   "source": [
    "patterns['petal length'].describe()"
   ]
  },
  {
   "cell_type": "code",
   "execution_count": 17,
   "id": "166bacb4",
   "metadata": {},
   "outputs": [
    {
     "ename": "NameError",
     "evalue": "name 'px' is not defined",
     "output_type": "error",
     "traceback": [
      "\u001b[0;31m---------------------------------------------------------------------------\u001b[0m",
      "\u001b[0;31mNameError\u001b[0m                                 Traceback (most recent call last)",
      "Cell \u001b[0;32mIn[17], line 1\u001b[0m\n\u001b[0;32m----> 1\u001b[0m fig \u001b[38;5;241m=\u001b[39m \u001b[43mpx\u001b[49m\u001b[38;5;241m.\u001b[39mscatter_3d(X, x \u001b[38;5;241m=\u001b[39m \u001b[38;5;124m'\u001b[39m\u001b[38;5;124msepal length\u001b[39m\u001b[38;5;124m'\u001b[39m, \n\u001b[1;32m      2\u001b[0m                      y \u001b[38;5;241m=\u001b[39m \u001b[38;5;124m'\u001b[39m\u001b[38;5;124mpetal length\u001b[39m\u001b[38;5;124m'\u001b[39m, z\u001b[38;5;241m=\u001b[39m\u001b[38;5;124m'\u001b[39m\u001b[38;5;124mpetal width\u001b[39m\u001b[38;5;124m'\u001b[39m, color \u001b[38;5;241m=\u001b[39m \u001b[38;5;124m'\u001b[39m\u001b[38;5;124mclass\u001b[39m\u001b[38;5;124m'\u001b[39m)\n\u001b[1;32m      4\u001b[0m fig\n\u001b[1;32m      6\u001b[0m \u001b[38;5;66;03m#fig.show(renderer='browser')\u001b[39;00m\n",
      "\u001b[0;31mNameError\u001b[0m: name 'px' is not defined"
     ]
    }
   ],
   "source": [
    "\n",
    "fig = px.scatter_3d(X, x = 'sepal length', \n",
    "                     y = 'petal length', z='petal width', color = 'class')\n",
    "\n",
    "fig\n",
    "\n",
    "#fig.show(renderer='browser')"
   ]
  },
  {
   "cell_type": "markdown",
   "id": "7e299a4b",
   "metadata": {},
   "source": [
    "### Mild disclaimer --\n",
    "*Do not worry about understanding the machine learning in this example!* We go over kNN models at length later in the course; you do not need to understand exactly what the model is doing quite yet. For now, ask yourself:\n",
    "\n",
    "1. What is the purpose of data splitting?\n",
    "2. What can we learn from data testing/validation?\n",
    "3. How do we know if a model is working?\n",
    "4. How could we find the model error?\n",
    "\n",
    "If you want, try changing the size of the test data or the number of n_neighbors and see what changes!"
   ]
  }
 ],
 "metadata": {
  "kernelspec": {
   "display_name": "Python 3",
   "language": "python",
   "name": "python3"
  },
  "language_info": {
   "codemirror_mode": {
    "name": "ipython",
    "version": 3
   },
   "file_extension": ".py",
   "mimetype": "text/x-python",
   "name": "python",
   "nbconvert_exporter": "python",
   "pygments_lexer": "ipython3",
   "version": "3.12.7"
  }
 },
 "nbformat": 4,
 "nbformat_minor": 5
}
>>>>>>> upstream/main
