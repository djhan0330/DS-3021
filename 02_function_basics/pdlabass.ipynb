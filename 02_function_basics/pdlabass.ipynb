{
 "cells": [
  {
   "cell_type": "markdown",
   "metadata": {},
   "source": [
    "# Assignment 2 - DS 3021"
   ]
  },
  {
   "cell_type": "code",
   "execution_count": 31,
   "metadata": {},
   "outputs": [
    {
     "data": {
      "text/plain": [
       "'c:\\\\Users\\\\dpv8cf\\\\DS-3021\\\\02_function_basics'"
      ]
     },
     "execution_count": 31,
     "metadata": {},
     "output_type": "execute_result"
    }
   ],
   "source": [
    "import pandas as pd\n",
    "import os\n",
    "os.getcwd()"
   ]
  },
  {
   "cell_type": "markdown",
   "metadata": {},
   "source": [
    "### For each of the two datasets you select, produce four parts: \n",
    "\n",
    "1. Question\n",
    "2. Psuedocode that answers the question\n",
    "3. Single line transactions using pandas functions\n",
    "4. Pipe the individual lines together and create a function\n",
    "\n",
    "You can work with your groups for coding tips/advise or work through similar programming issues, but everyone must have their own set of questions and results. \n",
    "\n",
    "\n",
    "### Data\n",
    "\n",
    "Any dataset in the class repo works or:\n",
    "\n",
    "nf2008_fg: http://users.stat.ufl.edu/~winner/data/nfl2008_fga.csv\n",
    "\n",
    "red_wine_quality: https://data.world/uci/wine-quality"
   ]
  },
  {
   "cell_type": "code",
   "execution_count": 32,
   "metadata": {},
   "outputs": [
    {
     "name": "stdout",
     "output_type": "stream",
     "text": [
      "<class 'pandas.core.frame.DataFrame'>\n",
      "RangeIndex: 11113 entries, 0 to 11112\n",
      "Data columns (total 23 columns):\n",
      " #   Column    Non-Null Count  Dtype  \n",
      "---  ------    --------------  -----  \n",
      " 0   Season    11113 non-null  object \n",
      " 1   DateTime  11113 non-null  object \n",
      " 2   HomeTeam  11113 non-null  object \n",
      " 3   AwayTeam  11113 non-null  object \n",
      " 4   FTHG      11113 non-null  int64  \n",
      " 5   FTAG      11113 non-null  int64  \n",
      " 6   FTR       11113 non-null  object \n",
      " 7   HTHG      10189 non-null  float64\n",
      " 8   HTAG      10189 non-null  float64\n",
      " 9   HTR       10189 non-null  object \n",
      " 10  Referee   8289 non-null   object \n",
      " 11  HS        8289 non-null   float64\n",
      " 12  AS        8289 non-null   float64\n",
      " 13  HST       8289 non-null   float64\n",
      " 14  AST       8289 non-null   float64\n",
      " 15  HC        8289 non-null   float64\n",
      " 16  AC        8289 non-null   float64\n",
      " 17  HF        8289 non-null   float64\n",
      " 18  AF        8289 non-null   float64\n",
      " 19  HY        8289 non-null   float64\n",
      " 20  AY        8289 non-null   float64\n",
      " 21  HR        8289 non-null   float64\n",
      " 22  AR        8289 non-null   float64\n",
      "dtypes: float64(14), int64(2), object(7)\n",
      "memory usage: 2.0+ MB\n",
      "None\n"
     ]
    }
   ],
   "source": [
    "epl = pd.read_csv(\"results.csv\", encoding=\"latin1\") #\"Encoding = 'latin1' is a set of rules on how to convert\"\n",
    "print(epl.info()) #There are 11113 rows and 23 columns"
   ]
  },
  {
   "cell_type": "markdown",
   "metadata": {},
   "source": [
    "## Question 1\n",
    "\n",
    "### \"Do soccer teams in the EPL tend to score more home goals or away goals?\"\n",
    "\n"
   ]
  },
  {
   "cell_type": "markdown",
   "metadata": {},
   "source": [
    "### Psuedocode\n",
    "\n",
    "I will start by understanding the data, then extract only the columns that shows the number of\n",
    "home goal scored and the number of away goal scored, and find the difference between the two.\n",
    "\n",
    "* Remove all NaN values\n",
    "* Group by FTHG and FTAG\n",
    "* Count the total amount of FTHG and FTAG\n",
    "* Find the difference between the two\n",
    "* Divide that value by the number of games to see the difference per game\n"
   ]
  },
  {
   "cell_type": "code",
   "execution_count": 33,
   "metadata": {},
   "outputs": [
    {
     "data": {
      "text/html": [
       "<div>\n",
       "<style scoped>\n",
       "    .dataframe tbody tr th:only-of-type {\n",
       "        vertical-align: middle;\n",
       "    }\n",
       "\n",
       "    .dataframe tbody tr th {\n",
       "        vertical-align: top;\n",
       "    }\n",
       "\n",
       "    .dataframe thead th {\n",
       "        text-align: right;\n",
       "    }\n",
       "</style>\n",
       "<table border=\"1\" class=\"dataframe\">\n",
       "  <thead>\n",
       "    <tr style=\"text-align: right;\">\n",
       "      <th></th>\n",
       "      <th>Season</th>\n",
       "      <th>DateTime</th>\n",
       "      <th>HomeTeam</th>\n",
       "      <th>AwayTeam</th>\n",
       "      <th>FTHG</th>\n",
       "      <th>FTAG</th>\n",
       "      <th>FTR</th>\n",
       "      <th>HTHG</th>\n",
       "      <th>HTAG</th>\n",
       "      <th>HTR</th>\n",
       "      <th>...</th>\n",
       "      <th>HST</th>\n",
       "      <th>AST</th>\n",
       "      <th>HC</th>\n",
       "      <th>AC</th>\n",
       "      <th>HF</th>\n",
       "      <th>AF</th>\n",
       "      <th>HY</th>\n",
       "      <th>AY</th>\n",
       "      <th>HR</th>\n",
       "      <th>AR</th>\n",
       "    </tr>\n",
       "  </thead>\n",
       "  <tbody>\n",
       "    <tr>\n",
       "      <th>0</th>\n",
       "      <td>1993-94</td>\n",
       "      <td>1993-08-14T00:00:00Z</td>\n",
       "      <td>Arsenal</td>\n",
       "      <td>Coventry</td>\n",
       "      <td>0</td>\n",
       "      <td>3</td>\n",
       "      <td>A</td>\n",
       "      <td>NaN</td>\n",
       "      <td>NaN</td>\n",
       "      <td>NaN</td>\n",
       "      <td>...</td>\n",
       "      <td>NaN</td>\n",
       "      <td>NaN</td>\n",
       "      <td>NaN</td>\n",
       "      <td>NaN</td>\n",
       "      <td>NaN</td>\n",
       "      <td>NaN</td>\n",
       "      <td>NaN</td>\n",
       "      <td>NaN</td>\n",
       "      <td>NaN</td>\n",
       "      <td>NaN</td>\n",
       "    </tr>\n",
       "    <tr>\n",
       "      <th>1</th>\n",
       "      <td>1993-94</td>\n",
       "      <td>1993-08-14T00:00:00Z</td>\n",
       "      <td>Aston Villa</td>\n",
       "      <td>QPR</td>\n",
       "      <td>4</td>\n",
       "      <td>1</td>\n",
       "      <td>H</td>\n",
       "      <td>NaN</td>\n",
       "      <td>NaN</td>\n",
       "      <td>NaN</td>\n",
       "      <td>...</td>\n",
       "      <td>NaN</td>\n",
       "      <td>NaN</td>\n",
       "      <td>NaN</td>\n",
       "      <td>NaN</td>\n",
       "      <td>NaN</td>\n",
       "      <td>NaN</td>\n",
       "      <td>NaN</td>\n",
       "      <td>NaN</td>\n",
       "      <td>NaN</td>\n",
       "      <td>NaN</td>\n",
       "    </tr>\n",
       "    <tr>\n",
       "      <th>2</th>\n",
       "      <td>1993-94</td>\n",
       "      <td>1993-08-14T00:00:00Z</td>\n",
       "      <td>Chelsea</td>\n",
       "      <td>Blackburn</td>\n",
       "      <td>1</td>\n",
       "      <td>2</td>\n",
       "      <td>A</td>\n",
       "      <td>NaN</td>\n",
       "      <td>NaN</td>\n",
       "      <td>NaN</td>\n",
       "      <td>...</td>\n",
       "      <td>NaN</td>\n",
       "      <td>NaN</td>\n",
       "      <td>NaN</td>\n",
       "      <td>NaN</td>\n",
       "      <td>NaN</td>\n",
       "      <td>NaN</td>\n",
       "      <td>NaN</td>\n",
       "      <td>NaN</td>\n",
       "      <td>NaN</td>\n",
       "      <td>NaN</td>\n",
       "    </tr>\n",
       "    <tr>\n",
       "      <th>3</th>\n",
       "      <td>1993-94</td>\n",
       "      <td>1993-08-14T00:00:00Z</td>\n",
       "      <td>Liverpool</td>\n",
       "      <td>Sheffield Weds</td>\n",
       "      <td>2</td>\n",
       "      <td>0</td>\n",
       "      <td>H</td>\n",
       "      <td>NaN</td>\n",
       "      <td>NaN</td>\n",
       "      <td>NaN</td>\n",
       "      <td>...</td>\n",
       "      <td>NaN</td>\n",
       "      <td>NaN</td>\n",
       "      <td>NaN</td>\n",
       "      <td>NaN</td>\n",
       "      <td>NaN</td>\n",
       "      <td>NaN</td>\n",
       "      <td>NaN</td>\n",
       "      <td>NaN</td>\n",
       "      <td>NaN</td>\n",
       "      <td>NaN</td>\n",
       "    </tr>\n",
       "    <tr>\n",
       "      <th>4</th>\n",
       "      <td>1993-94</td>\n",
       "      <td>1993-08-14T00:00:00Z</td>\n",
       "      <td>Man City</td>\n",
       "      <td>Leeds</td>\n",
       "      <td>1</td>\n",
       "      <td>1</td>\n",
       "      <td>D</td>\n",
       "      <td>NaN</td>\n",
       "      <td>NaN</td>\n",
       "      <td>NaN</td>\n",
       "      <td>...</td>\n",
       "      <td>NaN</td>\n",
       "      <td>NaN</td>\n",
       "      <td>NaN</td>\n",
       "      <td>NaN</td>\n",
       "      <td>NaN</td>\n",
       "      <td>NaN</td>\n",
       "      <td>NaN</td>\n",
       "      <td>NaN</td>\n",
       "      <td>NaN</td>\n",
       "      <td>NaN</td>\n",
       "    </tr>\n",
       "  </tbody>\n",
       "</table>\n",
       "<p>5 rows × 23 columns</p>\n",
       "</div>"
      ],
      "text/plain": [
       "    Season              DateTime     HomeTeam        AwayTeam  FTHG  FTAG FTR  \\\n",
       "0  1993-94  1993-08-14T00:00:00Z      Arsenal        Coventry     0     3   A   \n",
       "1  1993-94  1993-08-14T00:00:00Z  Aston Villa             QPR     4     1   H   \n",
       "2  1993-94  1993-08-14T00:00:00Z      Chelsea       Blackburn     1     2   A   \n",
       "3  1993-94  1993-08-14T00:00:00Z    Liverpool  Sheffield Weds     2     0   H   \n",
       "4  1993-94  1993-08-14T00:00:00Z     Man City           Leeds     1     1   D   \n",
       "\n",
       "   HTHG  HTAG  HTR  ... HST  AST  HC  AC  HF  AF  HY  AY  HR  AR  \n",
       "0   NaN   NaN  NaN  ... NaN  NaN NaN NaN NaN NaN NaN NaN NaN NaN  \n",
       "1   NaN   NaN  NaN  ... NaN  NaN NaN NaN NaN NaN NaN NaN NaN NaN  \n",
       "2   NaN   NaN  NaN  ... NaN  NaN NaN NaN NaN NaN NaN NaN NaN NaN  \n",
       "3   NaN   NaN  NaN  ... NaN  NaN NaN NaN NaN NaN NaN NaN NaN NaN  \n",
       "4   NaN   NaN  NaN  ... NaN  NaN NaN NaN NaN NaN NaN NaN NaN NaN  \n",
       "\n",
       "[5 rows x 23 columns]"
      ]
     },
     "execution_count": 33,
     "metadata": {},
     "output_type": "execute_result"
    }
   ],
   "source": [
    "epl.head()\n",
    "#the head() function shows the first few rows of the whole data. I used this function to get a general idea\n",
    "#of the whole dataset"
   ]
  },
  {
   "cell_type": "code",
   "execution_count": 34,
   "metadata": {},
   "outputs": [
    {
     "name": "stdout",
     "output_type": "stream",
     "text": [
      "Season      0\n",
      "DateTime    0\n",
      "HomeTeam    0\n",
      "AwayTeam    0\n",
      "FTHG        0\n",
      "FTAG        0\n",
      "FTR         0\n",
      "HTHG        0\n",
      "HTAG        0\n",
      "HTR         0\n",
      "Referee     0\n",
      "HS          0\n",
      "AS          0\n",
      "HST         0\n",
      "AST         0\n",
      "HC          0\n",
      "AC          0\n",
      "HF          0\n",
      "AF          0\n",
      "HY          0\n",
      "AY          0\n",
      "HR          0\n",
      "AR          0\n",
      "dtype: int64\n"
     ]
    }
   ],
   "source": [
    "#I've realized that I have a lot of NaN values, so I will remove them. \n",
    "\n",
    "epl = epl.dropna()\n",
    "na_values = epl.isnull().sum()\n",
    "print(na_values)\n"
   ]
  },
  {
   "cell_type": "code",
   "execution_count": 35,
   "metadata": {},
   "outputs": [
    {
     "data": {
      "text/html": [
       "<div>\n",
       "<style scoped>\n",
       "    .dataframe tbody tr th:only-of-type {\n",
       "        vertical-align: middle;\n",
       "    }\n",
       "\n",
       "    .dataframe tbody tr th {\n",
       "        vertical-align: top;\n",
       "    }\n",
       "\n",
       "    .dataframe thead th {\n",
       "        text-align: right;\n",
       "    }\n",
       "</style>\n",
       "<table border=\"1\" class=\"dataframe\">\n",
       "  <thead>\n",
       "    <tr style=\"text-align: right;\">\n",
       "      <th></th>\n",
       "      <th>FTHG</th>\n",
       "      <th>FTAG</th>\n",
       "    </tr>\n",
       "  </thead>\n",
       "  <tbody>\n",
       "    <tr>\n",
       "      <th>2824</th>\n",
       "      <td>4</td>\n",
       "      <td>0</td>\n",
       "    </tr>\n",
       "    <tr>\n",
       "      <th>2825</th>\n",
       "      <td>4</td>\n",
       "      <td>2</td>\n",
       "    </tr>\n",
       "    <tr>\n",
       "      <th>2826</th>\n",
       "      <td>1</td>\n",
       "      <td>3</td>\n",
       "    </tr>\n",
       "    <tr>\n",
       "      <th>2827</th>\n",
       "      <td>2</td>\n",
       "      <td>2</td>\n",
       "    </tr>\n",
       "    <tr>\n",
       "      <th>2828</th>\n",
       "      <td>2</td>\n",
       "      <td>0</td>\n",
       "    </tr>\n",
       "  </tbody>\n",
       "</table>\n",
       "</div>"
      ],
      "text/plain": [
       "      FTHG  FTAG\n",
       "2824     4     0\n",
       "2825     4     2\n",
       "2826     1     3\n",
       "2827     2     2\n",
       "2828     2     0"
      ]
     },
     "execution_count": 35,
     "metadata": {},
     "output_type": "execute_result"
    }
   ],
   "source": [
    "#Here, I am keeping only the columns that I want to use\n",
    "\n",
    "epl = epl[[\"FTHG\", \"FTAG\"]]\n",
    "epl.head()"
   ]
  },
  {
   "cell_type": "code",
   "execution_count": 36,
   "metadata": {},
   "outputs": [
    {
     "name": "stdout",
     "output_type": "stream",
     "text": [
      "12593 9578\n"
     ]
    }
   ],
   "source": [
    "#Here, we find the total home goal scores and away goal scores\n",
    "total_hgscore = epl[\"FTHG\"].sum()\n",
    "total_awscore = epl[\"FTAG\"].sum()\n",
    "print(total_hgscore, total_awscore)\n",
    "\n"
   ]
  },
  {
   "cell_type": "code",
   "execution_count": 37,
   "metadata": {},
   "outputs": [
    {
     "name": "stdout",
     "output_type": "stream",
     "text": [
      "3015\n"
     ]
    }
   ],
   "source": [
    "#Now we find the Difference\n",
    "diff = total_hgscore - total_awscore\n",
    "print(diff)"
   ]
  },
  {
   "cell_type": "code",
   "execution_count": 38,
   "metadata": {},
   "outputs": [
    {
     "name": "stdout",
     "output_type": "stream",
     "text": [
      "8289 8289\n",
      "0.36373507057546145\n"
     ]
    }
   ],
   "source": [
    "#Now we find the difference per game\n",
    "num_hwgame = len(epl[\"FTHG\"])\n",
    "num_awgame = len(epl[\"FTAG\"])\n",
    "print(num_hwgame, num_awgame)\n",
    "#Check if these two values match because if they don't, the data will be inaccurate\n",
    "diff_pergame = diff / num_hwgame\n",
    "print(diff_pergame)"
   ]
  },
  {
   "cell_type": "code",
   "execution_count": 39,
   "metadata": {},
   "outputs": [
    {
     "name": "stdout",
     "output_type": "stream",
     "text": [
      "0.36373507057546145\n"
     ]
    }
   ],
   "source": [
    "#Time to make a function\n",
    "def goal_diff(epl):\n",
    "    epl = epl.dropna()\n",
    "    epl = epl[[\"FTHG\", \"FTAG\"]]\n",
    "    total_hgscore = epl[\"FTHG\"].sum()\n",
    "    total_awscore = epl[\"FTAG\"].sum()\n",
    "    diff = total_hgscore - total_awscore\n",
    "    num_game = len(epl[\"FTHG\"])\n",
    "    diff_pergame = diff / num_game\n",
    "    return(diff_pergame)\n",
    "\n",
    "print(goal_diff(epl))"
   ]
  },
  {
   "cell_type": "markdown",
   "metadata": {},
   "source": [
    "In conclusion, the home teams tends to score 0.36 goals more than the away team!\n"
   ]
  },
  {
   "cell_type": "markdown",
   "metadata": {},
   "source": [
    "## Question 2\n",
    "\n",
    "### \"How many away wins does Tottenham have out of the games they played away?\"\n"
   ]
  },
  {
   "cell_type": "markdown",
   "metadata": {},
   "source": [
    "### Psuedocode\n",
    "\n",
    "* Filter the data to use only the relevant dataset.\n",
    "  * In this case, focus on Tottenham and the Full-Time Result.\n",
    "* Calculate the number of games Tottenham played by dividing the total number of games by 2, assuming there are  equal numbers of home and away games.\n",
    "* Filter the data again to retain only the away games.\n",
    "* Determine the number of away games that Tottenham won."
   ]
  },
  {
   "cell_type": "code",
   "execution_count": 40,
   "metadata": {},
   "outputs": [
    {
     "name": "stdout",
     "output_type": "stream",
     "text": [
      "5        A\n",
      "39       A\n",
      "46       H\n",
      "72       D\n",
      "97       D\n",
      "        ..\n",
      "11048    H\n",
      "11053    A\n",
      "11077    H\n",
      "11085    A\n",
      "11108    A\n",
      "Name: FTR, Length: 552, dtype: object\n"
     ]
    }
   ],
   "source": [
    "epl2 = pd.read_csv(\"results.csv\", encoding=\"latin1\")\n",
    "filtered_epl2 = epl2.loc[epl2[\"AwayTeam\"] == \"Tottenham\", \"FTR\"] #Filter the data frame so that I only have the data \n",
    "#where Tottenham played as an away team and the corresponding results\n",
    "print(filtered_epl2)"
   ]
  },
  {
   "cell_type": "code",
   "execution_count": 41,
   "metadata": {},
   "outputs": [
    {
     "name": "stdout",
     "output_type": "stream",
     "text": [
      "185\n"
     ]
    }
   ],
   "source": [
    "len(filtered_epl2) \n",
    "away_wins = filtered_epl2.loc[epl2[\"FTR\"] == \"A\"] #A means Away Win\n",
    "len(away_wins)\n",
    "print(len(away_wins))"
   ]
  },
  {
   "cell_type": "code",
   "execution_count": 42,
   "metadata": {},
   "outputs": [
    {
     "name": "stdout",
     "output_type": "stream",
     "text": [
      "Tottenham won 185 amount of away games out of 552 away games\n"
     ]
    }
   ],
   "source": [
    "#Function\n",
    "\n",
    "def away_wins_tottenham(epl2):\n",
    "    epl2 = pd.read_csv(\"results.csv\", encoding=\"latin1\")\n",
    "    filtered_epl2 = epl2.loc[epl2[\"AwayTeam\"] == \"Tottenham\", \"FTR\"]\n",
    "    away_wins = filtered_epl2.loc[epl2[\"FTR\"] == \"A\"] \n",
    "    return f\"Tottenham won {len(away_wins)} amount of away games out of {len(filtered_epl2)} away games\"\n",
    "\n",
    "print(away_wins_tottenham(epl2))"
   ]
  },
  {
   "cell_type": "markdown",
   "metadata": {},
   "source": [
    "## Question 3\n",
    "\n",
    "### What is the Average Distance for Field Goals by players?"
   ]
  },
  {
   "cell_type": "markdown",
   "metadata": {},
   "source": [
    "### Psuedocode\n",
    "\n",
    "* First, we will filter data where we can only see the data for a specific player.\n",
    "* Then, we will also only filter data where we can only see \"distance\" data for that specific player.\n",
    "* Finally, I will find the mean value of the \"distance\" data. "
   ]
  },
  {
   "cell_type": "code",
   "execution_count": 43,
   "metadata": {},
   "outputs": [
    {
     "name": "stdout",
     "output_type": "stream",
     "text": [
      "<class 'pandas.core.frame.DataFrame'>\n",
      "RangeIndex: 1039 entries, 0 to 1038\n",
      "Data columns (total 23 columns):\n",
      " #   Column    Non-Null Count  Dtype  \n",
      "---  ------    --------------  -----  \n",
      " 0   GameDate  1039 non-null   int64  \n",
      " 1   AwayTeam  1039 non-null   object \n",
      " 2   HomeTeam  1039 non-null   object \n",
      " 3   qtr       1039 non-null   int64  \n",
      " 4   min       1039 non-null   int64  \n",
      " 5   sec       1039 non-null   int64  \n",
      " 6   kickteam  1039 non-null   object \n",
      " 7   def       1039 non-null   object \n",
      " 8   down      1037 non-null   float64\n",
      " 9   togo      1037 non-null   float64\n",
      " 10  kicker    1039 non-null   int64  \n",
      " 11  ydline    1039 non-null   int64  \n",
      " 12  name      1039 non-null   object \n",
      " 13  distance  1039 non-null   int64  \n",
      " 14  homekick  1039 non-null   int64  \n",
      " 15  kickdiff  1039 non-null   int64  \n",
      " 16  timerem   1039 non-null   int64  \n",
      " 17  offscore  1039 non-null   int64  \n",
      " 18  defscore  1039 non-null   int64  \n",
      " 19  season    1039 non-null   int64  \n",
      " 20  GOOD      1039 non-null   int64  \n",
      " 21  Missed    1039 non-null   int64  \n",
      " 22  Blocked   1039 non-null   int64  \n",
      "dtypes: float64(2), int64(16), object(5)\n",
      "memory usage: 186.8+ KB\n",
      "None\n"
     ]
    }
   ],
   "source": [
    "nfl = pd.read_csv(\"http://users.stat.ufl.edu/~winner/data/nfl2008_fga.csv\")\n",
    "print(nfl.info())"
   ]
  },
  {
   "cell_type": "code",
   "execution_count": 44,
   "metadata": {},
   "outputs": [
    {
     "name": "stdout",
     "output_type": "stream",
     "text": [
      "35.28\n"
     ]
    }
   ],
   "source": [
    "#For this example, I will use \"D.Akers\" as an example\n",
    "\n",
    "player = nfl[nfl[\"name\"] == \"D.Akers\"]\n",
    "distance_for_player = player[\"distance\"]\n",
    "avg_dis_for_player = distance_for_player.mean()\n",
    "print(avg_dis_for_player)"
   ]
  },
  {
   "cell_type": "code",
   "execution_count": 45,
   "metadata": {},
   "outputs": [
    {
     "name": "stdout",
     "output_type": "stream",
     "text": [
      "35.28\n"
     ]
    }
   ],
   "source": [
    "def avg_dist_kickers(df, kicker_name):\n",
    "\n",
    "    player = df[df[\"name\"] == kicker_name]\n",
    "    distance_for_player = player[\"distance\"]\n",
    "    avg_dis_for_player = distance_for_player.mean()\n",
    "\n",
    "    return avg_dis_for_player\n",
    "\n",
    "df = nfl\n",
    "kicker_name = \"D.Akers\"\n",
    "\n",
    "print(avg_dist_kickers(df, kicker_name))"
   ]
  },
  {
   "cell_type": "markdown",
   "metadata": {},
   "source": [
    "## Question 4\n",
    "\n",
    "### What is the Maximum Field Goal Distance in a Game?"
   ]
  },
  {
   "cell_type": "markdown",
   "metadata": {},
   "source": [
    "### Pseudocode\n",
    "\n",
    "* First we filter out the data\n",
    "  * We need to filter game_date, home_team, and away_team to specify the game that we are finding\n",
    "* Then, we will combine all the filtered data into one \n",
    "* Then, we will find the \"distance\" data from that filtered data\n",
    "* From that \"distance\" data, we will find the max value using the max() function.\n",
    "* Then, we will have the maximum field goal distance in a game\n"
   ]
  },
  {
   "cell_type": "code",
   "execution_count": 46,
   "metadata": {},
   "outputs": [
    {
     "name": "stdout",
     "output_type": "stream",
     "text": [
      "41\n"
     ]
    }
   ],
   "source": [
    "#For this example, I will use the game that happened at 20080907 between IND (home) and CHI(away)\n",
    "\n",
    "game_date = 20080907\n",
    "home_team = \"IND\"\n",
    "away_team = \"CHI\"\n",
    "\n",
    "filter_gamedate = nfl[\"GameDate\"] == game_date\n",
    "filter_indhome = nfl[\"HomeTeam\"] == home_team\n",
    "filter_chiaway = nfl[\"AwayTeam\"] == away_team\n",
    "\n",
    "gather_filtered_data = filter_gamedate & filter_indhome & filter_chiaway\n",
    "\n",
    "complete_filtered_data = nfl[gather_filtered_data]\n",
    "\n",
    "max_distance = complete_filtered_data[\"distance\"].max()\n",
    "print(max_distance)"
   ]
  },
  {
   "cell_type": "code",
   "execution_count": 47,
   "metadata": {},
   "outputs": [
    {
     "name": "stdout",
     "output_type": "stream",
     "text": [
      "41\n"
     ]
    }
   ],
   "source": [
    "def max_dist_in_game(df, game_date, home_team, away_team):\n",
    "\n",
    "    filter_gamedate = df[\"GameDate\"] == game_date\n",
    "    filter_indhome = df[\"HomeTeam\"] == home_team\n",
    "    filter_chiaway = df[\"AwayTeam\"] == away_team\n",
    "    gather_filtered_data = filter_gamedate & filter_indhome & filter_chiaway\n",
    "    complete_filtered_data = df[gather_filtered_data]\n",
    "    max_distance = complete_filtered_data[\"distance\"].max()\n",
    "    return max_distance\n",
    "\n",
    "game_date = 20080907\n",
    "home_team = \"IND\"\n",
    "away_team = \"CHI\"\n",
    "print(max_dist_in_game(nfl, game_date, home_team, away_team))"
   ]
  }
 ],
 "metadata": {
  "kernelspec": {
   "display_name": "Python 3",
   "language": "python",
   "name": "python3"
  },
  "language_info": {
   "codemirror_mode": {
    "name": "ipython",
    "version": 3
   },
   "file_extension": ".py",
   "mimetype": "text/x-python",
   "name": "python",
   "nbconvert_exporter": "python",
   "pygments_lexer": "ipython3",
   "version": "3.12.8"
  }
 },
 "nbformat": 4,
 "nbformat_minor": 2
}
